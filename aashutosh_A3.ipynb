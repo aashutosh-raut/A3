{
 "cells": [
  {
   "cell_type": "markdown",
   "id": "516c4111",
   "metadata": {},
   "source": [
    "A3 : https://st126438.ml.brain.cs.ait.ac.th/\n",
    "github : https://github.com/aashutosh-raut/A3\n"
   ]
  },
  {
   "cell_type": "code",
   "execution_count": 140,
   "id": "ab059241",
   "metadata": {},
   "outputs": [],
   "source": [
    "import mlflow\n",
    "import numpy as np #importing the necessary libraries\n",
    "import pandas as pd\n",
    "import seaborn as sns\n",
    "import matplotlib.pyplot as plt\n",
    "import time\n",
    "from sklearn.metrics import classification_report\n",
    "from scipy import linalg\n",
    "# If you need sparse matrix linalg, use:\n",
    "# from scipy.sparse import linalg as sparse_linalg\n",
    "import mlflow\n",
    "import os\n",
    "import warnings\n",
    "warnings.filterwarnings('ignore')\n",
    "import pickle"
   ]
  },
  {
   "cell_type": "code",
   "execution_count": 141,
   "id": "bd207a50",
   "metadata": {},
   "outputs": [
    {
     "data": {
      "text/plain": [
       "<Experiment: artifact_location='mlflow-artifacts:/211260474760409452', creation_time=1759565122605, experiment_id='211260474760409452', last_update_time=1759565122605, lifecycle_stage='active', name='st126438-A3', tags={'mlflow.experimentKind': 'custom_model_development'}>"
      ]
     },
     "execution_count": 141,
     "metadata": {},
     "output_type": "execute_result"
    }
   ],
   "source": [
    "os.environ[\"MLFLOW_TRACKING_USERNAME\"] = \"admin\"\n",
    "os.environ[\"MLFLOW_TRACKING_PASSWORD\"] = \"password\"\n",
    "\n",
    "mlflow.set_tracking_uri(\"https://mlflow.ml.brain.cs.ait.ac.th/\") \n",
    "mlflow.set_experiment(experiment_name=\"st126438-A3\")"
   ]
  },
  {
   "cell_type": "code",
   "execution_count": 142,
   "id": "91650d9a",
   "metadata": {},
   "outputs": [
    {
     "data": {
      "text/plain": [
       "('2.1.3', '2.2.3', '0.13.2', '3.10.0')"
      ]
     },
     "execution_count": 142,
     "metadata": {},
     "output_type": "execute_result"
    }
   ],
   "source": [
    "import matplotlib\n",
    "np.__version__, pd.__version__, sns.__version__, matplotlib.__version__"
   ]
  },
  {
   "cell_type": "code",
   "execution_count": 143,
   "id": "2c68e5a8",
   "metadata": {},
   "outputs": [],
   "source": [
    "df = pd.read_csv('Cars.csv') #importing/loading the data set"
   ]
  },
  {
   "cell_type": "code",
   "execution_count": 144,
   "id": "6174bba0",
   "metadata": {},
   "outputs": [
    {
     "data": {
      "text/html": [
       "<div>\n",
       "<style scoped>\n",
       "    .dataframe tbody tr th:only-of-type {\n",
       "        vertical-align: middle;\n",
       "    }\n",
       "\n",
       "    .dataframe tbody tr th {\n",
       "        vertical-align: top;\n",
       "    }\n",
       "\n",
       "    .dataframe thead th {\n",
       "        text-align: right;\n",
       "    }\n",
       "</style>\n",
       "<table border=\"1\" class=\"dataframe\">\n",
       "  <thead>\n",
       "    <tr style=\"text-align: right;\">\n",
       "      <th></th>\n",
       "      <th>name</th>\n",
       "      <th>year</th>\n",
       "      <th>selling_price</th>\n",
       "      <th>km_driven</th>\n",
       "      <th>fuel</th>\n",
       "      <th>seller_type</th>\n",
       "      <th>transmission</th>\n",
       "      <th>owner</th>\n",
       "      <th>mileage</th>\n",
       "      <th>engine</th>\n",
       "      <th>max_power</th>\n",
       "      <th>torque</th>\n",
       "      <th>seats</th>\n",
       "    </tr>\n",
       "  </thead>\n",
       "  <tbody>\n",
       "    <tr>\n",
       "      <th>0</th>\n",
       "      <td>Maruti Swift Dzire VDI</td>\n",
       "      <td>2014</td>\n",
       "      <td>450000</td>\n",
       "      <td>145500</td>\n",
       "      <td>Diesel</td>\n",
       "      <td>Individual</td>\n",
       "      <td>Manual</td>\n",
       "      <td>First Owner</td>\n",
       "      <td>23.4 kmpl</td>\n",
       "      <td>1248 CC</td>\n",
       "      <td>74 bhp</td>\n",
       "      <td>190Nm@ 2000rpm</td>\n",
       "      <td>5.0</td>\n",
       "    </tr>\n",
       "    <tr>\n",
       "      <th>1</th>\n",
       "      <td>Skoda Rapid 1.5 TDI Ambition</td>\n",
       "      <td>2014</td>\n",
       "      <td>370000</td>\n",
       "      <td>120000</td>\n",
       "      <td>Diesel</td>\n",
       "      <td>Individual</td>\n",
       "      <td>Manual</td>\n",
       "      <td>Second Owner</td>\n",
       "      <td>21.14 kmpl</td>\n",
       "      <td>1498 CC</td>\n",
       "      <td>103.52 bhp</td>\n",
       "      <td>250Nm@ 1500-2500rpm</td>\n",
       "      <td>5.0</td>\n",
       "    </tr>\n",
       "    <tr>\n",
       "      <th>2</th>\n",
       "      <td>Honda City 2017-2020 EXi</td>\n",
       "      <td>2006</td>\n",
       "      <td>158000</td>\n",
       "      <td>140000</td>\n",
       "      <td>Petrol</td>\n",
       "      <td>Individual</td>\n",
       "      <td>Manual</td>\n",
       "      <td>Third Owner</td>\n",
       "      <td>17.7 kmpl</td>\n",
       "      <td>1497 CC</td>\n",
       "      <td>78 bhp</td>\n",
       "      <td>12.7@ 2,700(kgm@ rpm)</td>\n",
       "      <td>5.0</td>\n",
       "    </tr>\n",
       "    <tr>\n",
       "      <th>3</th>\n",
       "      <td>Hyundai i20 Sportz Diesel</td>\n",
       "      <td>2010</td>\n",
       "      <td>225000</td>\n",
       "      <td>127000</td>\n",
       "      <td>Diesel</td>\n",
       "      <td>Individual</td>\n",
       "      <td>Manual</td>\n",
       "      <td>First Owner</td>\n",
       "      <td>23.0 kmpl</td>\n",
       "      <td>1396 CC</td>\n",
       "      <td>90 bhp</td>\n",
       "      <td>22.4 kgm at 1750-2750rpm</td>\n",
       "      <td>5.0</td>\n",
       "    </tr>\n",
       "    <tr>\n",
       "      <th>4</th>\n",
       "      <td>Maruti Swift VXI BSIII</td>\n",
       "      <td>2007</td>\n",
       "      <td>130000</td>\n",
       "      <td>120000</td>\n",
       "      <td>Petrol</td>\n",
       "      <td>Individual</td>\n",
       "      <td>Manual</td>\n",
       "      <td>First Owner</td>\n",
       "      <td>16.1 kmpl</td>\n",
       "      <td>1298 CC</td>\n",
       "      <td>88.2 bhp</td>\n",
       "      <td>11.5@ 4,500(kgm@ rpm)</td>\n",
       "      <td>5.0</td>\n",
       "    </tr>\n",
       "  </tbody>\n",
       "</table>\n",
       "</div>"
      ],
      "text/plain": [
       "                           name  year  selling_price  km_driven    fuel  \\\n",
       "0        Maruti Swift Dzire VDI  2014         450000     145500  Diesel   \n",
       "1  Skoda Rapid 1.5 TDI Ambition  2014         370000     120000  Diesel   \n",
       "2      Honda City 2017-2020 EXi  2006         158000     140000  Petrol   \n",
       "3     Hyundai i20 Sportz Diesel  2010         225000     127000  Diesel   \n",
       "4        Maruti Swift VXI BSIII  2007         130000     120000  Petrol   \n",
       "\n",
       "  seller_type transmission         owner     mileage   engine   max_power  \\\n",
       "0  Individual       Manual   First Owner   23.4 kmpl  1248 CC      74 bhp   \n",
       "1  Individual       Manual  Second Owner  21.14 kmpl  1498 CC  103.52 bhp   \n",
       "2  Individual       Manual   Third Owner   17.7 kmpl  1497 CC      78 bhp   \n",
       "3  Individual       Manual   First Owner   23.0 kmpl  1396 CC      90 bhp   \n",
       "4  Individual       Manual   First Owner   16.1 kmpl  1298 CC    88.2 bhp   \n",
       "\n",
       "                     torque  seats  \n",
       "0            190Nm@ 2000rpm    5.0  \n",
       "1       250Nm@ 1500-2500rpm    5.0  \n",
       "2     12.7@ 2,700(kgm@ rpm)    5.0  \n",
       "3  22.4 kgm at 1750-2750rpm    5.0  \n",
       "4     11.5@ 4,500(kgm@ rpm)    5.0  "
      ]
     },
     "execution_count": 144,
     "metadata": {},
     "output_type": "execute_result"
    }
   ],
   "source": [
    "df.head()"
   ]
  },
  {
   "cell_type": "code",
   "execution_count": 145,
   "id": "8552b07f",
   "metadata": {},
   "outputs": [
    {
     "data": {
      "text/plain": [
       "(8128, 13)"
      ]
     },
     "execution_count": 145,
     "metadata": {},
     "output_type": "execute_result"
    }
   ],
   "source": [
    "df.shape # Checking the number of data and columns"
   ]
  },
  {
   "cell_type": "code",
   "execution_count": 146,
   "id": "8f05ba07",
   "metadata": {},
   "outputs": [
    {
     "data": {
      "text/html": [
       "<div>\n",
       "<style scoped>\n",
       "    .dataframe tbody tr th:only-of-type {\n",
       "        vertical-align: middle;\n",
       "    }\n",
       "\n",
       "    .dataframe tbody tr th {\n",
       "        vertical-align: top;\n",
       "    }\n",
       "\n",
       "    .dataframe thead th {\n",
       "        text-align: right;\n",
       "    }\n",
       "</style>\n",
       "<table border=\"1\" class=\"dataframe\">\n",
       "  <thead>\n",
       "    <tr style=\"text-align: right;\">\n",
       "      <th></th>\n",
       "      <th>year</th>\n",
       "      <th>selling_price</th>\n",
       "      <th>km_driven</th>\n",
       "      <th>seats</th>\n",
       "    </tr>\n",
       "  </thead>\n",
       "  <tbody>\n",
       "    <tr>\n",
       "      <th>count</th>\n",
       "      <td>8128.000000</td>\n",
       "      <td>8.128000e+03</td>\n",
       "      <td>8.128000e+03</td>\n",
       "      <td>7907.000000</td>\n",
       "    </tr>\n",
       "    <tr>\n",
       "      <th>mean</th>\n",
       "      <td>2013.804011</td>\n",
       "      <td>6.382718e+05</td>\n",
       "      <td>6.981951e+04</td>\n",
       "      <td>5.416719</td>\n",
       "    </tr>\n",
       "    <tr>\n",
       "      <th>std</th>\n",
       "      <td>4.044249</td>\n",
       "      <td>8.062534e+05</td>\n",
       "      <td>5.655055e+04</td>\n",
       "      <td>0.959588</td>\n",
       "    </tr>\n",
       "    <tr>\n",
       "      <th>min</th>\n",
       "      <td>1983.000000</td>\n",
       "      <td>2.999900e+04</td>\n",
       "      <td>1.000000e+00</td>\n",
       "      <td>2.000000</td>\n",
       "    </tr>\n",
       "    <tr>\n",
       "      <th>25%</th>\n",
       "      <td>2011.000000</td>\n",
       "      <td>2.549990e+05</td>\n",
       "      <td>3.500000e+04</td>\n",
       "      <td>5.000000</td>\n",
       "    </tr>\n",
       "    <tr>\n",
       "      <th>50%</th>\n",
       "      <td>2015.000000</td>\n",
       "      <td>4.500000e+05</td>\n",
       "      <td>6.000000e+04</td>\n",
       "      <td>5.000000</td>\n",
       "    </tr>\n",
       "    <tr>\n",
       "      <th>75%</th>\n",
       "      <td>2017.000000</td>\n",
       "      <td>6.750000e+05</td>\n",
       "      <td>9.800000e+04</td>\n",
       "      <td>5.000000</td>\n",
       "    </tr>\n",
       "    <tr>\n",
       "      <th>max</th>\n",
       "      <td>2020.000000</td>\n",
       "      <td>1.000000e+07</td>\n",
       "      <td>2.360457e+06</td>\n",
       "      <td>14.000000</td>\n",
       "    </tr>\n",
       "  </tbody>\n",
       "</table>\n",
       "</div>"
      ],
      "text/plain": [
       "              year  selling_price     km_driven        seats\n",
       "count  8128.000000   8.128000e+03  8.128000e+03  7907.000000\n",
       "mean   2013.804011   6.382718e+05  6.981951e+04     5.416719\n",
       "std       4.044249   8.062534e+05  5.655055e+04     0.959588\n",
       "min    1983.000000   2.999900e+04  1.000000e+00     2.000000\n",
       "25%    2011.000000   2.549990e+05  3.500000e+04     5.000000\n",
       "50%    2015.000000   4.500000e+05  6.000000e+04     5.000000\n",
       "75%    2017.000000   6.750000e+05  9.800000e+04     5.000000\n",
       "max    2020.000000   1.000000e+07  2.360457e+06    14.000000"
      ]
     },
     "execution_count": 146,
     "metadata": {},
     "output_type": "execute_result"
    }
   ],
   "source": [
    "df.describe() # here we describe the data, see what the rows and columns have"
   ]
  },
  {
   "cell_type": "code",
   "execution_count": 147,
   "id": "d68aa32b",
   "metadata": {},
   "outputs": [
    {
     "data": {
      "text/plain": [
       "<bound method DataFrame.info of                               name  year  selling_price  km_driven    fuel  \\\n",
       "0           Maruti Swift Dzire VDI  2014         450000     145500  Diesel   \n",
       "1     Skoda Rapid 1.5 TDI Ambition  2014         370000     120000  Diesel   \n",
       "2         Honda City 2017-2020 EXi  2006         158000     140000  Petrol   \n",
       "3        Hyundai i20 Sportz Diesel  2010         225000     127000  Diesel   \n",
       "4           Maruti Swift VXI BSIII  2007         130000     120000  Petrol   \n",
       "...                            ...   ...            ...        ...     ...   \n",
       "8123             Hyundai i20 Magna  2013         320000     110000  Petrol   \n",
       "8124         Hyundai Verna CRDi SX  2007         135000     119000  Diesel   \n",
       "8125        Maruti Swift Dzire ZDi  2009         382000     120000  Diesel   \n",
       "8126               Tata Indigo CR4  2013         290000      25000  Diesel   \n",
       "8127               Tata Indigo CR4  2013         290000      25000  Diesel   \n",
       "\n",
       "     seller_type transmission                 owner     mileage   engine  \\\n",
       "0     Individual       Manual           First Owner   23.4 kmpl  1248 CC   \n",
       "1     Individual       Manual          Second Owner  21.14 kmpl  1498 CC   \n",
       "2     Individual       Manual           Third Owner   17.7 kmpl  1497 CC   \n",
       "3     Individual       Manual           First Owner   23.0 kmpl  1396 CC   \n",
       "4     Individual       Manual           First Owner   16.1 kmpl  1298 CC   \n",
       "...          ...          ...                   ...         ...      ...   \n",
       "8123  Individual       Manual           First Owner   18.5 kmpl  1197 CC   \n",
       "8124  Individual       Manual  Fourth & Above Owner   16.8 kmpl  1493 CC   \n",
       "8125  Individual       Manual           First Owner   19.3 kmpl  1248 CC   \n",
       "8126  Individual       Manual           First Owner  23.57 kmpl  1396 CC   \n",
       "8127  Individual       Manual           First Owner  23.57 kmpl  1396 CC   \n",
       "\n",
       "       max_power                     torque  seats  \n",
       "0         74 bhp             190Nm@ 2000rpm    5.0  \n",
       "1     103.52 bhp        250Nm@ 1500-2500rpm    5.0  \n",
       "2         78 bhp      12.7@ 2,700(kgm@ rpm)    5.0  \n",
       "3         90 bhp   22.4 kgm at 1750-2750rpm    5.0  \n",
       "4       88.2 bhp      11.5@ 4,500(kgm@ rpm)    5.0  \n",
       "...          ...                        ...    ...  \n",
       "8123   82.85 bhp           113.7Nm@ 4000rpm    5.0  \n",
       "8124     110 bhp  24@ 1,900-2,750(kgm@ rpm)    5.0  \n",
       "8125    73.9 bhp             190Nm@ 2000rpm    5.0  \n",
       "8126      70 bhp        140Nm@ 1800-3000rpm    5.0  \n",
       "8127      70 bhp        140Nm@ 1800-3000rpm    5.0  \n",
       "\n",
       "[8128 rows x 13 columns]>"
      ]
     },
     "execution_count": 147,
     "metadata": {},
     "output_type": "execute_result"
    }
   ],
   "source": [
    "df.info"
   ]
  },
  {
   "cell_type": "code",
   "execution_count": 148,
   "id": "28db1383",
   "metadata": {},
   "outputs": [
    {
     "data": {
      "text/plain": [
       "Index(['name', 'year', 'selling_price', 'km_driven', 'fuel', 'seller_type',\n",
       "       'transmission', 'owner', 'mileage', 'engine', 'max_power', 'torque',\n",
       "       'seats'],\n",
       "      dtype='object')"
      ]
     },
     "execution_count": 148,
     "metadata": {},
     "output_type": "execute_result"
    }
   ],
   "source": [
    "df.columns # here we see what are the columns (features we will later take to train test the model. some of them we will use some we will drop.) now we will rename the columns below. "
   ]
  },
  {
   "cell_type": "code",
   "execution_count": 149,
   "id": "ebb83a4b",
   "metadata": {},
   "outputs": [],
   "source": [
    "df.rename(columns = {'name': 'brand', 'year': 'year', 'selling_price': 'selling_price', 'km_driven': 'km_driven', 'fuel': 'fuel', 'seller_type': 'seller_type', 'transmission': 'transmission', 'owner': 'owner', 'mileage': 'mileage',  'engine': 'engine', 'max_power': 'max_power', 'torque': 'torque', 'seats': 'seats'}, inplace = True)\n",
    "# The above is the renaming process of the Exploratory (EDA)"
   ]
  },
  {
   "cell_type": "code",
   "execution_count": 150,
   "id": "7c7ad108",
   "metadata": {},
   "outputs": [
    {
     "data": {
      "text/plain": [
       "Index(['brand', 'year', 'selling_price', 'km_driven', 'fuel', 'seller_type',\n",
       "       'transmission', 'owner', 'mileage', 'engine', 'max_power', 'torque',\n",
       "       'seats'],\n",
       "      dtype='object')"
      ]
     },
     "execution_count": 150,
     "metadata": {},
     "output_type": "execute_result"
    }
   ],
   "source": [
    "df.columns # checking the updated columns names"
   ]
  },
  {
   "cell_type": "code",
   "execution_count": 151,
   "id": "02142603",
   "metadata": {},
   "outputs": [
    {
     "data": {
      "text/plain": [
       "array(['Manual', 'Automatic'], dtype=object)"
      ]
     },
     "execution_count": 151,
     "metadata": {},
     "output_type": "execute_result"
    }
   ],
   "source": [
    "df['transmission'].unique() # checking the unique values in the transmission column"
   ]
  },
  {
   "cell_type": "code",
   "execution_count": 152,
   "id": "5603a8a1",
   "metadata": {},
   "outputs": [
    {
     "data": {
      "text/plain": [
       "array(['First Owner', 'Second Owner', 'Third Owner',\n",
       "       'Fourth & Above Owner', 'Test Drive Car'], dtype=object)"
      ]
     },
     "execution_count": 152,
     "metadata": {},
     "output_type": "execute_result"
    }
   ],
   "source": [
    "df['owner'].unique() # checking the data in the owner column"
   ]
  },
  {
   "cell_type": "code",
   "execution_count": 153,
   "id": "75cba20a",
   "metadata": {},
   "outputs": [],
   "source": [
    "df['owner'] = df['owner'].replace({\n",
    "    'First Owner': 1,\n",
    "    'Second Owner': 2,\n",
    "    'Third Owner': 3,\n",
    "    'Fourth & Above Owner': 4,\n",
    "    'Test Drive Car': 5\n",
    "}) # changing the string into numeric values"
   ]
  },
  {
   "cell_type": "code",
   "execution_count": 154,
   "id": "7531c30b",
   "metadata": {},
   "outputs": [
    {
     "data": {
      "text/plain": [
       "array([1, 2, 3, 4, 5])"
      ]
     },
     "execution_count": 154,
     "metadata": {},
     "output_type": "execute_result"
    }
   ],
   "source": [
    "df['owner'].unique() # checking the updated data "
   ]
  },
  {
   "cell_type": "code",
   "execution_count": 155,
   "id": "5f56a098",
   "metadata": {},
   "outputs": [
    {
     "data": {
      "text/html": [
       "<div>\n",
       "<style scoped>\n",
       "    .dataframe tbody tr th:only-of-type {\n",
       "        vertical-align: middle;\n",
       "    }\n",
       "\n",
       "    .dataframe tbody tr th {\n",
       "        vertical-align: top;\n",
       "    }\n",
       "\n",
       "    .dataframe thead th {\n",
       "        text-align: right;\n",
       "    }\n",
       "</style>\n",
       "<table border=\"1\" class=\"dataframe\">\n",
       "  <thead>\n",
       "    <tr style=\"text-align: right;\">\n",
       "      <th></th>\n",
       "      <th>brand</th>\n",
       "      <th>year</th>\n",
       "      <th>selling_price</th>\n",
       "      <th>km_driven</th>\n",
       "      <th>fuel</th>\n",
       "      <th>seller_type</th>\n",
       "      <th>transmission</th>\n",
       "      <th>owner</th>\n",
       "      <th>mileage</th>\n",
       "      <th>engine</th>\n",
       "      <th>max_power</th>\n",
       "      <th>torque</th>\n",
       "      <th>seats</th>\n",
       "    </tr>\n",
       "  </thead>\n",
       "  <tbody>\n",
       "    <tr>\n",
       "      <th>0</th>\n",
       "      <td>Maruti Swift Dzire VDI</td>\n",
       "      <td>2014</td>\n",
       "      <td>450000</td>\n",
       "      <td>145500</td>\n",
       "      <td>Diesel</td>\n",
       "      <td>Individual</td>\n",
       "      <td>Manual</td>\n",
       "      <td>1</td>\n",
       "      <td>23.4 kmpl</td>\n",
       "      <td>1248 CC</td>\n",
       "      <td>74 bhp</td>\n",
       "      <td>190Nm@ 2000rpm</td>\n",
       "      <td>5.0</td>\n",
       "    </tr>\n",
       "    <tr>\n",
       "      <th>1</th>\n",
       "      <td>Skoda Rapid 1.5 TDI Ambition</td>\n",
       "      <td>2014</td>\n",
       "      <td>370000</td>\n",
       "      <td>120000</td>\n",
       "      <td>Diesel</td>\n",
       "      <td>Individual</td>\n",
       "      <td>Manual</td>\n",
       "      <td>2</td>\n",
       "      <td>21.14 kmpl</td>\n",
       "      <td>1498 CC</td>\n",
       "      <td>103.52 bhp</td>\n",
       "      <td>250Nm@ 1500-2500rpm</td>\n",
       "      <td>5.0</td>\n",
       "    </tr>\n",
       "    <tr>\n",
       "      <th>2</th>\n",
       "      <td>Honda City 2017-2020 EXi</td>\n",
       "      <td>2006</td>\n",
       "      <td>158000</td>\n",
       "      <td>140000</td>\n",
       "      <td>Petrol</td>\n",
       "      <td>Individual</td>\n",
       "      <td>Manual</td>\n",
       "      <td>3</td>\n",
       "      <td>17.7 kmpl</td>\n",
       "      <td>1497 CC</td>\n",
       "      <td>78 bhp</td>\n",
       "      <td>12.7@ 2,700(kgm@ rpm)</td>\n",
       "      <td>5.0</td>\n",
       "    </tr>\n",
       "    <tr>\n",
       "      <th>3</th>\n",
       "      <td>Hyundai i20 Sportz Diesel</td>\n",
       "      <td>2010</td>\n",
       "      <td>225000</td>\n",
       "      <td>127000</td>\n",
       "      <td>Diesel</td>\n",
       "      <td>Individual</td>\n",
       "      <td>Manual</td>\n",
       "      <td>1</td>\n",
       "      <td>23.0 kmpl</td>\n",
       "      <td>1396 CC</td>\n",
       "      <td>90 bhp</td>\n",
       "      <td>22.4 kgm at 1750-2750rpm</td>\n",
       "      <td>5.0</td>\n",
       "    </tr>\n",
       "    <tr>\n",
       "      <th>4</th>\n",
       "      <td>Maruti Swift VXI BSIII</td>\n",
       "      <td>2007</td>\n",
       "      <td>130000</td>\n",
       "      <td>120000</td>\n",
       "      <td>Petrol</td>\n",
       "      <td>Individual</td>\n",
       "      <td>Manual</td>\n",
       "      <td>1</td>\n",
       "      <td>16.1 kmpl</td>\n",
       "      <td>1298 CC</td>\n",
       "      <td>88.2 bhp</td>\n",
       "      <td>11.5@ 4,500(kgm@ rpm)</td>\n",
       "      <td>5.0</td>\n",
       "    </tr>\n",
       "    <tr>\n",
       "      <th>...</th>\n",
       "      <td>...</td>\n",
       "      <td>...</td>\n",
       "      <td>...</td>\n",
       "      <td>...</td>\n",
       "      <td>...</td>\n",
       "      <td>...</td>\n",
       "      <td>...</td>\n",
       "      <td>...</td>\n",
       "      <td>...</td>\n",
       "      <td>...</td>\n",
       "      <td>...</td>\n",
       "      <td>...</td>\n",
       "      <td>...</td>\n",
       "    </tr>\n",
       "    <tr>\n",
       "      <th>8123</th>\n",
       "      <td>Hyundai i20 Magna</td>\n",
       "      <td>2013</td>\n",
       "      <td>320000</td>\n",
       "      <td>110000</td>\n",
       "      <td>Petrol</td>\n",
       "      <td>Individual</td>\n",
       "      <td>Manual</td>\n",
       "      <td>1</td>\n",
       "      <td>18.5 kmpl</td>\n",
       "      <td>1197 CC</td>\n",
       "      <td>82.85 bhp</td>\n",
       "      <td>113.7Nm@ 4000rpm</td>\n",
       "      <td>5.0</td>\n",
       "    </tr>\n",
       "    <tr>\n",
       "      <th>8124</th>\n",
       "      <td>Hyundai Verna CRDi SX</td>\n",
       "      <td>2007</td>\n",
       "      <td>135000</td>\n",
       "      <td>119000</td>\n",
       "      <td>Diesel</td>\n",
       "      <td>Individual</td>\n",
       "      <td>Manual</td>\n",
       "      <td>4</td>\n",
       "      <td>16.8 kmpl</td>\n",
       "      <td>1493 CC</td>\n",
       "      <td>110 bhp</td>\n",
       "      <td>24@ 1,900-2,750(kgm@ rpm)</td>\n",
       "      <td>5.0</td>\n",
       "    </tr>\n",
       "    <tr>\n",
       "      <th>8125</th>\n",
       "      <td>Maruti Swift Dzire ZDi</td>\n",
       "      <td>2009</td>\n",
       "      <td>382000</td>\n",
       "      <td>120000</td>\n",
       "      <td>Diesel</td>\n",
       "      <td>Individual</td>\n",
       "      <td>Manual</td>\n",
       "      <td>1</td>\n",
       "      <td>19.3 kmpl</td>\n",
       "      <td>1248 CC</td>\n",
       "      <td>73.9 bhp</td>\n",
       "      <td>190Nm@ 2000rpm</td>\n",
       "      <td>5.0</td>\n",
       "    </tr>\n",
       "    <tr>\n",
       "      <th>8126</th>\n",
       "      <td>Tata Indigo CR4</td>\n",
       "      <td>2013</td>\n",
       "      <td>290000</td>\n",
       "      <td>25000</td>\n",
       "      <td>Diesel</td>\n",
       "      <td>Individual</td>\n",
       "      <td>Manual</td>\n",
       "      <td>1</td>\n",
       "      <td>23.57 kmpl</td>\n",
       "      <td>1396 CC</td>\n",
       "      <td>70 bhp</td>\n",
       "      <td>140Nm@ 1800-3000rpm</td>\n",
       "      <td>5.0</td>\n",
       "    </tr>\n",
       "    <tr>\n",
       "      <th>8127</th>\n",
       "      <td>Tata Indigo CR4</td>\n",
       "      <td>2013</td>\n",
       "      <td>290000</td>\n",
       "      <td>25000</td>\n",
       "      <td>Diesel</td>\n",
       "      <td>Individual</td>\n",
       "      <td>Manual</td>\n",
       "      <td>1</td>\n",
       "      <td>23.57 kmpl</td>\n",
       "      <td>1396 CC</td>\n",
       "      <td>70 bhp</td>\n",
       "      <td>140Nm@ 1800-3000rpm</td>\n",
       "      <td>5.0</td>\n",
       "    </tr>\n",
       "  </tbody>\n",
       "</table>\n",
       "<p>8128 rows × 13 columns</p>\n",
       "</div>"
      ],
      "text/plain": [
       "                             brand  year  selling_price  km_driven    fuel  \\\n",
       "0           Maruti Swift Dzire VDI  2014         450000     145500  Diesel   \n",
       "1     Skoda Rapid 1.5 TDI Ambition  2014         370000     120000  Diesel   \n",
       "2         Honda City 2017-2020 EXi  2006         158000     140000  Petrol   \n",
       "3        Hyundai i20 Sportz Diesel  2010         225000     127000  Diesel   \n",
       "4           Maruti Swift VXI BSIII  2007         130000     120000  Petrol   \n",
       "...                            ...   ...            ...        ...     ...   \n",
       "8123             Hyundai i20 Magna  2013         320000     110000  Petrol   \n",
       "8124         Hyundai Verna CRDi SX  2007         135000     119000  Diesel   \n",
       "8125        Maruti Swift Dzire ZDi  2009         382000     120000  Diesel   \n",
       "8126               Tata Indigo CR4  2013         290000      25000  Diesel   \n",
       "8127               Tata Indigo CR4  2013         290000      25000  Diesel   \n",
       "\n",
       "     seller_type transmission  owner     mileage   engine   max_power  \\\n",
       "0     Individual       Manual      1   23.4 kmpl  1248 CC      74 bhp   \n",
       "1     Individual       Manual      2  21.14 kmpl  1498 CC  103.52 bhp   \n",
       "2     Individual       Manual      3   17.7 kmpl  1497 CC      78 bhp   \n",
       "3     Individual       Manual      1   23.0 kmpl  1396 CC      90 bhp   \n",
       "4     Individual       Manual      1   16.1 kmpl  1298 CC    88.2 bhp   \n",
       "...          ...          ...    ...         ...      ...         ...   \n",
       "8123  Individual       Manual      1   18.5 kmpl  1197 CC   82.85 bhp   \n",
       "8124  Individual       Manual      4   16.8 kmpl  1493 CC     110 bhp   \n",
       "8125  Individual       Manual      1   19.3 kmpl  1248 CC    73.9 bhp   \n",
       "8126  Individual       Manual      1  23.57 kmpl  1396 CC      70 bhp   \n",
       "8127  Individual       Manual      1  23.57 kmpl  1396 CC      70 bhp   \n",
       "\n",
       "                         torque  seats  \n",
       "0                190Nm@ 2000rpm    5.0  \n",
       "1           250Nm@ 1500-2500rpm    5.0  \n",
       "2         12.7@ 2,700(kgm@ rpm)    5.0  \n",
       "3      22.4 kgm at 1750-2750rpm    5.0  \n",
       "4         11.5@ 4,500(kgm@ rpm)    5.0  \n",
       "...                         ...    ...  \n",
       "8123           113.7Nm@ 4000rpm    5.0  \n",
       "8124  24@ 1,900-2,750(kgm@ rpm)    5.0  \n",
       "8125             190Nm@ 2000rpm    5.0  \n",
       "8126        140Nm@ 1800-3000rpm    5.0  \n",
       "8127        140Nm@ 1800-3000rpm    5.0  \n",
       "\n",
       "[8128 rows x 13 columns]"
      ]
     },
     "execution_count": 155,
     "metadata": {},
     "output_type": "execute_result"
    }
   ],
   "source": [
    "df"
   ]
  },
  {
   "cell_type": "code",
   "execution_count": 156,
   "id": "c7a8b8c6",
   "metadata": {},
   "outputs": [
    {
     "data": {
      "text/plain": [
       "array(['Diesel', 'Petrol', 'LPG', 'CNG'], dtype=object)"
      ]
     },
     "execution_count": 156,
     "metadata": {},
     "output_type": "execute_result"
    }
   ],
   "source": [
    "df['fuel'].unique() # checking the data in the fuel column "
   ]
  },
  {
   "cell_type": "code",
   "execution_count": 157,
   "id": "02f9c561",
   "metadata": {},
   "outputs": [
    {
     "data": {
      "text/plain": [
       "0       Diesel\n",
       "1       Diesel\n",
       "2       Petrol\n",
       "3       Diesel\n",
       "4       Petrol\n",
       "         ...  \n",
       "8123    Petrol\n",
       "8124    Diesel\n",
       "8125    Diesel\n",
       "8126    Diesel\n",
       "8127    Diesel\n",
       "Name: fuel, Length: 8090, dtype: object"
      ]
     },
     "execution_count": 157,
     "metadata": {},
     "output_type": "execute_result"
    }
   ],
   "source": [
    "df = df[df['fuel'] != 'LPG']\n",
    "df['fuel'] #droping LPG from the data"
   ]
  },
  {
   "cell_type": "code",
   "execution_count": 158,
   "id": "918933c2",
   "metadata": {},
   "outputs": [
    {
     "data": {
      "text/plain": [
       "array(['Diesel', 'Petrol', 'CNG'], dtype=object)"
      ]
     },
     "execution_count": 158,
     "metadata": {},
     "output_type": "execute_result"
    }
   ],
   "source": [
    "df['fuel'].unique()"
   ]
  },
  {
   "cell_type": "code",
   "execution_count": 159,
   "id": "88bb4485",
   "metadata": {},
   "outputs": [
    {
     "data": {
      "text/plain": [
       "0       Diesel\n",
       "1       Diesel\n",
       "2       Petrol\n",
       "3       Diesel\n",
       "4       Petrol\n",
       "         ...  \n",
       "8123    Petrol\n",
       "8124    Diesel\n",
       "8125    Diesel\n",
       "8126    Diesel\n",
       "8127    Diesel\n",
       "Name: fuel, Length: 8033, dtype: object"
      ]
     },
     "execution_count": 159,
     "metadata": {},
     "output_type": "execute_result"
    }
   ],
   "source": [
    "df = df[df['fuel'] != 'CNG']\n",
    "df['fuel'] #dropping CNG from the data"
   ]
  },
  {
   "cell_type": "code",
   "execution_count": 160,
   "id": "370eb13b",
   "metadata": {},
   "outputs": [
    {
     "data": {
      "text/plain": [
       "array(['Diesel', 'Petrol'], dtype=object)"
      ]
     },
     "execution_count": 160,
     "metadata": {},
     "output_type": "execute_result"
    }
   ],
   "source": [
    "df['fuel'].unique() # checking if LPG and CNG have been dropped from the data"
   ]
  },
  {
   "cell_type": "code",
   "execution_count": 161,
   "id": "9d2d188b",
   "metadata": {},
   "outputs": [
    {
     "data": {
      "text/plain": [
       "array(['23.4 kmpl', '21.14 kmpl', '17.7 kmpl', '23.0 kmpl', '16.1 kmpl',\n",
       "       '20.14 kmpl', '23.59 kmpl', '20.0 kmpl', '19.01 kmpl', '17.3 kmpl',\n",
       "       '19.3 kmpl', nan, '18.9 kmpl', '18.15 kmpl', '24.52 kmpl',\n",
       "       '19.7 kmpl', '22.54 kmpl', '21.0 kmpl', '25.5 kmpl', '26.59 kmpl',\n",
       "       '21.5 kmpl', '20.3 kmpl', '21.4 kmpl', '24.7 kmpl', '18.2 kmpl',\n",
       "       '16.8 kmpl', '24.3 kmpl', '14.0 kmpl', '18.6 kmpl', '23.95 kmpl',\n",
       "       '17.0 kmpl', '20.63 kmpl', '13.93 kmpl', '16.0 kmpl', '17.8 kmpl',\n",
       "       '18.5 kmpl', '12.55 kmpl', '12.99 kmpl', '14.8 kmpl', '13.5 kmpl',\n",
       "       '26.0 kmpl', '20.65 kmpl', '27.3 kmpl', '11.36 kmpl', '17.68 kmpl',\n",
       "       '14.28 kmpl', '18.53 kmpl', '14.84 kmpl', '21.12 kmpl',\n",
       "       '20.36 kmpl', '21.27 kmpl', '18.16 kmpl', '22.0 kmpl', '25.1 kmpl',\n",
       "       '20.51 kmpl', '21.66 kmpl', '25.2 kmpl', '22.9 kmpl', '16.02 kmpl',\n",
       "       '20.54 kmpl', '22.77 kmpl', '15.71 kmpl', '23.1 kmpl',\n",
       "       '19.02 kmpl', '19.81 kmpl', '16.47 kmpl', '15.04 kmpl',\n",
       "       '19.1 kmpl', '21.79 kmpl', '18.8 kmpl', '21.21 kmpl', '15.37 kmpl',\n",
       "       '11.79 kmpl', '19.0 kmpl', '14.3 kmpl', '15.8 kmpl', '15.1 kmpl',\n",
       "       '19.09 kmpl', '22.32 kmpl', '21.9 kmpl', '14.53 kmpl',\n",
       "       '21.63 kmpl', '20.85 kmpl', '20.45 kmpl', '19.67 kmpl',\n",
       "       '23.01 kmpl', '20.77 kmpl', '17.92 kmpl', '17.01 kmpl',\n",
       "       '22.37 kmpl', '19.33 kmpl', '9.5 kmpl', '12.83 kmpl', '22.48 kmpl',\n",
       "       '16.78 kmpl', '14.67 kmpl', '15.0 kmpl', '13.96 kmpl', '18.0 kmpl',\n",
       "       '12.07 kmpl', '26.21 kmpl', '10.8 kmpl', '16.3 kmpl', '13.6 kmpl',\n",
       "       '14.74 kmpl', '15.6 kmpl', '19.56 kmpl', '22.69 kmpl',\n",
       "       '19.16 kmpl', '18.12 kmpl', '12.1 kmpl', '17.5 kmpl', '42.0 kmpl',\n",
       "       '20.4 kmpl', '21.1 kmpl', '19.44 kmpl', '13.0 kmpl', '21.43 kmpl',\n",
       "       '22.95 kmpl', '16.2 kmpl', '15.3 kmpl', '28.09 kmpl', '17.4 kmpl',\n",
       "       '19.4 kmpl', '17.6 kmpl', '28.4 kmpl', '14.1 kmpl', '25.17 kmpl',\n",
       "       '22.74 kmpl', '17.57 kmpl', '16.95 kmpl', '19.49 kmpl',\n",
       "       '17.21 kmpl', '13.2 kmpl', '14.2 kmpl', '26.8 kmpl', '25.4 kmpl',\n",
       "       '11.5 kmpl', '27.28 kmpl', '17.97 kmpl', '12.8 kmpl', '16.55 kmpl',\n",
       "       '12.05 kmpl', '14.07 kmpl', '21.02 kmpl', '11.57 kmpl',\n",
       "       '17.9 kmpl', '15.96 kmpl', '17.1 kmpl', '17.19 kmpl', '21.01 kmpl',\n",
       "       '24.0 kmpl', '25.6 kmpl', '21.38 kmpl', '23.84 kmpl', '23.08 kmpl',\n",
       "       '14.24 kmpl', '20.71 kmpl', '15.64 kmpl', '14.5 kmpl',\n",
       "       '16.34 kmpl', '27.39 kmpl', '11.1 kmpl', '13.9 kmpl', '20.92 kmpl',\n",
       "       '23.8 kmpl', '24.4 kmpl', '15.29 kmpl', '21.19 kmpl', '22.5 kmpl',\n",
       "       '19.6 kmpl', '23.65 kmpl', '25.32 kmpl', '23.5 kmpl', '16.6 kmpl',\n",
       "       '23.9 kmpl', '20.8 kmpl', '27.62 kmpl', '12.9 kmpl', '25.44 kmpl',\n",
       "       '17.88 kmpl', '22.7 kmpl', '17.2 kmpl', '15.42 kmpl', '19.68 kmpl',\n",
       "       '18.7 kmpl', '15.4 kmpl', '19.34 kmpl', '22.71 kmpl', '25.8 kmpl',\n",
       "       '13.7 kmpl', '12.2 kmpl', '18.49 kmpl', '9.0 kmpl', '0.0 kmpl',\n",
       "       '13.58 kmpl', '10.1 kmpl', '20.5 kmpl', '25.0 kmpl', '10.5 kmpl',\n",
       "       '22.07 kmpl', '22.3 kmpl', '15.26 kmpl', '20.62 kmpl', '27.4 kmpl',\n",
       "       '23.2 kmpl', '14.4 kmpl', '18.4 kmpl', '14.02 kmpl', '11.0 kmpl',\n",
       "       '20.6 kmpl', '22.05 kmpl', '20.2 kmpl', '18.1 kmpl', '22.1 kmpl',\n",
       "       '19.87 kmpl', '13.01 kmpl', '18.06 kmpl', '26.1 kmpl',\n",
       "       '16.52 kmpl', '13.55 kmpl', '24.2 kmpl', '25.83 kmpl', '11.2 kmpl',\n",
       "       '17.09 kmpl', '21.03 kmpl', '17.45 kmpl', '21.64 kmpl',\n",
       "       '13.87 kmpl', '19.98 kmpl', '20.52 kmpl', '23.57 kmpl',\n",
       "       '11.7 kmpl', '17.43 kmpl', '18.88 kmpl', '13.68 kmpl',\n",
       "       '11.18 kmpl', '20.89 kmpl', '11.8 kmpl', '19.62 kmpl', '21.7 kmpl',\n",
       "       '14.9 kmpl', '19.5 kmpl', '10.91 kmpl', '15.7 kmpl', '20.73 kmpl',\n",
       "       '15.85 kmpl', '20.7 kmpl', '14.23 kmpl', '16.5 kmpl', '17.36 kmpl',\n",
       "       '12.6 kmpl', '16.36 kmpl', '14.95 kmpl', '16.9 kmpl', '19.2 kmpl',\n",
       "       '16.96 kmpl', '22.15 kmpl', '18.78 kmpl', '19.61 kmpl',\n",
       "       '17.71 kmpl', '18.3 kmpl', '19.12 kmpl', '19.72 kmpl', '12.0 kmpl',\n",
       "       '11.4 kmpl', '23.03 kmpl', '11.07 kmpl', '15.9 kmpl', '17.67 kmpl',\n",
       "       '20.46 kmpl', '13.1 kmpl', '24.8 kmpl', '15.73 kmpl', '15.11 kmpl',\n",
       "       '12.7 kmpl', '21.2 kmpl', '20.38 kmpl', '21.56 kmpl', '13.22 kmpl',\n",
       "       '14.49 kmpl', '15.05 kmpl', '23.26 kmpl', '15.41 kmpl',\n",
       "       '13.8 kmpl', '22.27 kmpl', '14.66 kmpl', '12.12 kmpl',\n",
       "       '16.84 kmpl', '14.09 kmpl', '14.7 kmpl', '13.4 kmpl', '15.5 kmpl',\n",
       "       '13.49 kmpl', '14.6 kmpl', '10.75 kmpl', '24.5 kmpl', '11.74 kmpl',\n",
       "       '16.07 kmpl', '15.63 kmpl', '25.47 kmpl', '17.05 kmpl',\n",
       "       '23.3 kmpl', '11.9 kmpl', '13.38 kmpl', '20.86 kmpl', '10.9 kmpl',\n",
       "       '18.25 kmpl', '15.2 kmpl', '20.37 kmpl', '21.8 kmpl', '11.96 kmpl',\n",
       "       '24.04 kmpl', '19.69 kmpl', '13.73 kmpl', '21.04 kmpl',\n",
       "       '25.01 kmpl', '10.93 kmpl', '24.29 kmpl', '13.44 kmpl',\n",
       "       '20.07 kmpl', '19.08 kmpl', '20.34 kmpl', '11.68 kmpl',\n",
       "       '12.5 kmpl', '12.3 kmpl', '23.87 kmpl', '16.38 kmpl', '17.42 kmpl',\n",
       "       '10.0 kmpl', '18.24 kmpl', '10.71 kmpl', '19.59 kmpl', '16.7 kmpl',\n",
       "       '19.83 kmpl', '21.76 kmpl', '16.05 kmpl', '20.28 kmpl',\n",
       "       '16.25 kmpl', '16.73 kmpl', '18.48 kmpl', '14.99 kmpl',\n",
       "       '18.76 kmpl', '16.4 kmpl', '19.64 kmpl', '14.94 kmpl',\n",
       "       '17.11 kmpl', '12.4 kmpl', '18.44 kmpl', '16.09 kmpl',\n",
       "       '12.62 kmpl', '21.13 kmpl', '15.17 kmpl', '21.73 kmpl',\n",
       "       '21.72 kmpl', '12.85 kmpl', '14.81 kmpl', '13.24 kmpl',\n",
       "       '21.49 kmpl', '14.62 kmpl', '11.45 kmpl', '12.08 kmpl',\n",
       "       '15.74 kmpl', '11.3 kmpl', '14.21 kmpl', '11.72 kmpl',\n",
       "       '16.51 kmpl'], dtype=object)"
      ]
     },
     "execution_count": 161,
     "metadata": {},
     "output_type": "execute_result"
    }
   ],
   "source": [
    "df['mileage'].unique()"
   ]
  },
  {
   "cell_type": "code",
   "execution_count": 162,
   "id": "6714751e",
   "metadata": {},
   "outputs": [
    {
     "data": {
      "text/plain": [
       "0        23.4\n",
       "1       21.14\n",
       "2        17.7\n",
       "3        23.0\n",
       "4        16.1\n",
       "        ...  \n",
       "8123     18.5\n",
       "8124     16.8\n",
       "8125     19.3\n",
       "8126    23.57\n",
       "8127    23.57\n",
       "Name: mileage, Length: 8033, dtype: object"
      ]
     },
     "execution_count": 162,
     "metadata": {},
     "output_type": "execute_result"
    }
   ],
   "source": [
    "df['mileage'] = df['mileage'].str.split(' ').str[0]\n",
    "df['mileage']"
   ]
  },
  {
   "cell_type": "code",
   "execution_count": 163,
   "id": "a27c5b14",
   "metadata": {},
   "outputs": [
    {
     "data": {
      "text/plain": [
       "dtype('O')"
      ]
     },
     "execution_count": 163,
     "metadata": {},
     "output_type": "execute_result"
    }
   ],
   "source": [
    "df['mileage'].dtype"
   ]
  },
  {
   "cell_type": "code",
   "execution_count": 164,
   "id": "e99c169c",
   "metadata": {},
   "outputs": [
    {
     "data": {
      "text/plain": [
       "dtype('float64')"
      ]
     },
     "execution_count": 164,
     "metadata": {},
     "output_type": "execute_result"
    }
   ],
   "source": [
    "df['mileage'] = df['mileage'].astype(float)\n",
    "df['mileage'].dtype"
   ]
  },
  {
   "cell_type": "code",
   "execution_count": 165,
   "id": "e2cce771",
   "metadata": {},
   "outputs": [
    {
     "data": {
      "text/plain": [
       "array(['1248 CC', '1498 CC', '1497 CC', '1396 CC', '1298 CC', '1197 CC',\n",
       "       '796 CC', '1364 CC', '1399 CC', '1461 CC', '993 CC', nan,\n",
       "       '1061 CC', '1198 CC', '1199 CC', '998 CC', '1591 CC', '2179 CC',\n",
       "       '1368 CC', '2982 CC', '2494 CC', '2143 CC', '2477 CC', '1462 CC',\n",
       "       '2755 CC', '1968 CC', '1798 CC', '1196 CC', '1373 CC', '1598 CC',\n",
       "       '1998 CC', '1086 CC', '1194 CC', '1172 CC', '1405 CC', '1582 CC',\n",
       "       '999 CC', '2487 CC', '1999 CC', '3604 CC', '2987 CC', '1995 CC',\n",
       "       '1451 CC', '1969 CC', '2967 CC', '2497 CC', '1797 CC', '1991 CC',\n",
       "       '2362 CC', '1493 CC', '1599 CC', '1341 CC', '1794 CC', '799 CC',\n",
       "       '1193 CC', '2696 CC', '1495 CC', '1186 CC', '1047 CC', '2498 CC',\n",
       "       '2956 CC', '2523 CC', '1120 CC', '624 CC', '1496 CC', '1984 CC',\n",
       "       '2354 CC', '814 CC', '793 CC', '1799 CC', '936 CC', '1956 CC',\n",
       "       '1997 CC', '1499 CC', '1948 CC', '2997 CC', '2489 CC', '2499 CC',\n",
       "       '2609 CC', '2953 CC', '1150 CC', '1994 CC', '1388 CC', '1527 CC',\n",
       "       '2199 CC', '995 CC', '2993 CC', '1586 CC', '1390 CC', '909 CC',\n",
       "       '2393 CC', '3198 CC', '1339 CC', '2835 CC', '2092 CC', '1595 CC',\n",
       "       '2496 CC', '1596 CC', '1597 CC', '2596 CC', '2148 CC', '1299 CC',\n",
       "       '1590 CC', '2231 CC', '2694 CC', '2200 CC', '1795 CC', '1896 CC',\n",
       "       '1796 CC', '1422 CC', '1489 CC', '2359 CC', '2197 CC', '2999 CC',\n",
       "       '1781 CC', '2650 CC', '1343 CC', '2446 CC', '3498 CC', '2198 CC',\n",
       "       '2776 CC', '1950 CC'], dtype=object)"
      ]
     },
     "execution_count": 165,
     "metadata": {},
     "output_type": "execute_result"
    }
   ],
   "source": [
    "df['engine'].unique()"
   ]
  },
  {
   "cell_type": "code",
   "execution_count": 166,
   "id": "1e069fb2",
   "metadata": {},
   "outputs": [
    {
     "data": {
      "text/plain": [
       "0       1248\n",
       "1       1498\n",
       "2       1497\n",
       "3       1396\n",
       "4       1298\n",
       "        ... \n",
       "8123    1197\n",
       "8124    1493\n",
       "8125    1248\n",
       "8126    1396\n",
       "8127    1396\n",
       "Name: engine, Length: 8033, dtype: object"
      ]
     },
     "execution_count": 166,
     "metadata": {},
     "output_type": "execute_result"
    }
   ],
   "source": [
    "df['engine'] = df['engine'].str.split(' ').str[0]\n",
    "df['engine']"
   ]
  },
  {
   "cell_type": "code",
   "execution_count": 167,
   "id": "8f22710d",
   "metadata": {},
   "outputs": [
    {
     "data": {
      "text/plain": [
       "dtype('float64')"
      ]
     },
     "execution_count": 167,
     "metadata": {},
     "output_type": "execute_result"
    }
   ],
   "source": [
    "df['engine'] = df['engine'].astype(float)\n",
    "df['engine'].dtype"
   ]
  },
  {
   "cell_type": "code",
   "execution_count": 168,
   "id": "4ef01b59",
   "metadata": {},
   "outputs": [
    {
     "data": {
      "text/plain": [
       "0           74 bhp\n",
       "1       103.52 bhp\n",
       "2           78 bhp\n",
       "3           90 bhp\n",
       "4         88.2 bhp\n",
       "           ...    \n",
       "8123     82.85 bhp\n",
       "8124       110 bhp\n",
       "8125      73.9 bhp\n",
       "8126        70 bhp\n",
       "8127        70 bhp\n",
       "Name: max_power, Length: 8033, dtype: object"
      ]
     },
     "execution_count": 168,
     "metadata": {},
     "output_type": "execute_result"
    }
   ],
   "source": [
    "df['max_power']"
   ]
  },
  {
   "cell_type": "code",
   "execution_count": 169,
   "id": "57ee8bf9",
   "metadata": {},
   "outputs": [
    {
     "data": {
      "text/plain": [
       "0           74\n",
       "1       103.52\n",
       "2           78\n",
       "3           90\n",
       "4         88.2\n",
       "         ...  \n",
       "8123     82.85\n",
       "8124       110\n",
       "8125      73.9\n",
       "8126        70\n",
       "8127        70\n",
       "Name: max_power, Length: 8033, dtype: object"
      ]
     },
     "execution_count": 169,
     "metadata": {},
     "output_type": "execute_result"
    }
   ],
   "source": [
    "df['max_power'] = df['max_power'].str.split(' ').str[0]\n",
    "df['max_power']"
   ]
  },
  {
   "cell_type": "code",
   "execution_count": 170,
   "id": "5bcc1672",
   "metadata": {},
   "outputs": [
    {
     "data": {
      "text/plain": [
       "dtype('float64')"
      ]
     },
     "execution_count": 170,
     "metadata": {},
     "output_type": "execute_result"
    }
   ],
   "source": [
    "df['max_power'] = df['max_power'].astype(float)\n",
    "df['max_power'].dtype"
   ]
  },
  {
   "cell_type": "code",
   "execution_count": 171,
   "id": "73fc1880",
   "metadata": {},
   "outputs": [
    {
     "data": {
      "text/plain": [
       "0             Maruti Swift Dzire VDI\n",
       "1       Skoda Rapid 1.5 TDI Ambition\n",
       "2           Honda City 2017-2020 EXi\n",
       "3          Hyundai i20 Sportz Diesel\n",
       "4             Maruti Swift VXI BSIII\n",
       "                    ...             \n",
       "8123               Hyundai i20 Magna\n",
       "8124           Hyundai Verna CRDi SX\n",
       "8125          Maruti Swift Dzire ZDi\n",
       "8126                 Tata Indigo CR4\n",
       "8127                 Tata Indigo CR4\n",
       "Name: brand, Length: 8033, dtype: object"
      ]
     },
     "execution_count": 171,
     "metadata": {},
     "output_type": "execute_result"
    }
   ],
   "source": [
    "df['brand']"
   ]
  },
  {
   "cell_type": "code",
   "execution_count": 172,
   "id": "0211d876",
   "metadata": {},
   "outputs": [
    {
     "data": {
      "text/plain": [
       "0        Maruti\n",
       "1         Skoda\n",
       "2         Honda\n",
       "3       Hyundai\n",
       "4        Maruti\n",
       "         ...   \n",
       "8123    Hyundai\n",
       "8124    Hyundai\n",
       "8125     Maruti\n",
       "8126       Tata\n",
       "8127       Tata\n",
       "Name: brand, Length: 8033, dtype: object"
      ]
     },
     "execution_count": 172,
     "metadata": {},
     "output_type": "execute_result"
    }
   ],
   "source": [
    "df['brand'] = df['brand'].str.split(' ').str[0]\n",
    "df['brand']"
   ]
  },
  {
   "cell_type": "code",
   "execution_count": 173,
   "id": "94181697",
   "metadata": {},
   "outputs": [],
   "source": [
    "df.drop(columns={'torque'}, inplace=True) #Dropping torque "
   ]
  },
  {
   "cell_type": "code",
   "execution_count": 174,
   "id": "3e510257",
   "metadata": {},
   "outputs": [
    {
     "data": {
      "text/html": [
       "<div>\n",
       "<style scoped>\n",
       "    .dataframe tbody tr th:only-of-type {\n",
       "        vertical-align: middle;\n",
       "    }\n",
       "\n",
       "    .dataframe tbody tr th {\n",
       "        vertical-align: top;\n",
       "    }\n",
       "\n",
       "    .dataframe thead th {\n",
       "        text-align: right;\n",
       "    }\n",
       "</style>\n",
       "<table border=\"1\" class=\"dataframe\">\n",
       "  <thead>\n",
       "    <tr style=\"text-align: right;\">\n",
       "      <th></th>\n",
       "      <th>brand</th>\n",
       "      <th>year</th>\n",
       "      <th>selling_price</th>\n",
       "      <th>km_driven</th>\n",
       "      <th>fuel</th>\n",
       "      <th>seller_type</th>\n",
       "      <th>transmission</th>\n",
       "      <th>owner</th>\n",
       "      <th>mileage</th>\n",
       "      <th>engine</th>\n",
       "      <th>max_power</th>\n",
       "      <th>seats</th>\n",
       "    </tr>\n",
       "  </thead>\n",
       "  <tbody>\n",
       "    <tr>\n",
       "      <th>0</th>\n",
       "      <td>Maruti</td>\n",
       "      <td>2014</td>\n",
       "      <td>450000</td>\n",
       "      <td>145500</td>\n",
       "      <td>Diesel</td>\n",
       "      <td>Individual</td>\n",
       "      <td>Manual</td>\n",
       "      <td>1</td>\n",
       "      <td>23.40</td>\n",
       "      <td>1248.0</td>\n",
       "      <td>74.00</td>\n",
       "      <td>5.0</td>\n",
       "    </tr>\n",
       "    <tr>\n",
       "      <th>1</th>\n",
       "      <td>Skoda</td>\n",
       "      <td>2014</td>\n",
       "      <td>370000</td>\n",
       "      <td>120000</td>\n",
       "      <td>Diesel</td>\n",
       "      <td>Individual</td>\n",
       "      <td>Manual</td>\n",
       "      <td>2</td>\n",
       "      <td>21.14</td>\n",
       "      <td>1498.0</td>\n",
       "      <td>103.52</td>\n",
       "      <td>5.0</td>\n",
       "    </tr>\n",
       "    <tr>\n",
       "      <th>2</th>\n",
       "      <td>Honda</td>\n",
       "      <td>2006</td>\n",
       "      <td>158000</td>\n",
       "      <td>140000</td>\n",
       "      <td>Petrol</td>\n",
       "      <td>Individual</td>\n",
       "      <td>Manual</td>\n",
       "      <td>3</td>\n",
       "      <td>17.70</td>\n",
       "      <td>1497.0</td>\n",
       "      <td>78.00</td>\n",
       "      <td>5.0</td>\n",
       "    </tr>\n",
       "    <tr>\n",
       "      <th>3</th>\n",
       "      <td>Hyundai</td>\n",
       "      <td>2010</td>\n",
       "      <td>225000</td>\n",
       "      <td>127000</td>\n",
       "      <td>Diesel</td>\n",
       "      <td>Individual</td>\n",
       "      <td>Manual</td>\n",
       "      <td>1</td>\n",
       "      <td>23.00</td>\n",
       "      <td>1396.0</td>\n",
       "      <td>90.00</td>\n",
       "      <td>5.0</td>\n",
       "    </tr>\n",
       "    <tr>\n",
       "      <th>4</th>\n",
       "      <td>Maruti</td>\n",
       "      <td>2007</td>\n",
       "      <td>130000</td>\n",
       "      <td>120000</td>\n",
       "      <td>Petrol</td>\n",
       "      <td>Individual</td>\n",
       "      <td>Manual</td>\n",
       "      <td>1</td>\n",
       "      <td>16.10</td>\n",
       "      <td>1298.0</td>\n",
       "      <td>88.20</td>\n",
       "      <td>5.0</td>\n",
       "    </tr>\n",
       "    <tr>\n",
       "      <th>...</th>\n",
       "      <td>...</td>\n",
       "      <td>...</td>\n",
       "      <td>...</td>\n",
       "      <td>...</td>\n",
       "      <td>...</td>\n",
       "      <td>...</td>\n",
       "      <td>...</td>\n",
       "      <td>...</td>\n",
       "      <td>...</td>\n",
       "      <td>...</td>\n",
       "      <td>...</td>\n",
       "      <td>...</td>\n",
       "    </tr>\n",
       "    <tr>\n",
       "      <th>8123</th>\n",
       "      <td>Hyundai</td>\n",
       "      <td>2013</td>\n",
       "      <td>320000</td>\n",
       "      <td>110000</td>\n",
       "      <td>Petrol</td>\n",
       "      <td>Individual</td>\n",
       "      <td>Manual</td>\n",
       "      <td>1</td>\n",
       "      <td>18.50</td>\n",
       "      <td>1197.0</td>\n",
       "      <td>82.85</td>\n",
       "      <td>5.0</td>\n",
       "    </tr>\n",
       "    <tr>\n",
       "      <th>8124</th>\n",
       "      <td>Hyundai</td>\n",
       "      <td>2007</td>\n",
       "      <td>135000</td>\n",
       "      <td>119000</td>\n",
       "      <td>Diesel</td>\n",
       "      <td>Individual</td>\n",
       "      <td>Manual</td>\n",
       "      <td>4</td>\n",
       "      <td>16.80</td>\n",
       "      <td>1493.0</td>\n",
       "      <td>110.00</td>\n",
       "      <td>5.0</td>\n",
       "    </tr>\n",
       "    <tr>\n",
       "      <th>8125</th>\n",
       "      <td>Maruti</td>\n",
       "      <td>2009</td>\n",
       "      <td>382000</td>\n",
       "      <td>120000</td>\n",
       "      <td>Diesel</td>\n",
       "      <td>Individual</td>\n",
       "      <td>Manual</td>\n",
       "      <td>1</td>\n",
       "      <td>19.30</td>\n",
       "      <td>1248.0</td>\n",
       "      <td>73.90</td>\n",
       "      <td>5.0</td>\n",
       "    </tr>\n",
       "    <tr>\n",
       "      <th>8126</th>\n",
       "      <td>Tata</td>\n",
       "      <td>2013</td>\n",
       "      <td>290000</td>\n",
       "      <td>25000</td>\n",
       "      <td>Diesel</td>\n",
       "      <td>Individual</td>\n",
       "      <td>Manual</td>\n",
       "      <td>1</td>\n",
       "      <td>23.57</td>\n",
       "      <td>1396.0</td>\n",
       "      <td>70.00</td>\n",
       "      <td>5.0</td>\n",
       "    </tr>\n",
       "    <tr>\n",
       "      <th>8127</th>\n",
       "      <td>Tata</td>\n",
       "      <td>2013</td>\n",
       "      <td>290000</td>\n",
       "      <td>25000</td>\n",
       "      <td>Diesel</td>\n",
       "      <td>Individual</td>\n",
       "      <td>Manual</td>\n",
       "      <td>1</td>\n",
       "      <td>23.57</td>\n",
       "      <td>1396.0</td>\n",
       "      <td>70.00</td>\n",
       "      <td>5.0</td>\n",
       "    </tr>\n",
       "  </tbody>\n",
       "</table>\n",
       "<p>8033 rows × 12 columns</p>\n",
       "</div>"
      ],
      "text/plain": [
       "        brand  year  selling_price  km_driven    fuel seller_type  \\\n",
       "0      Maruti  2014         450000     145500  Diesel  Individual   \n",
       "1       Skoda  2014         370000     120000  Diesel  Individual   \n",
       "2       Honda  2006         158000     140000  Petrol  Individual   \n",
       "3     Hyundai  2010         225000     127000  Diesel  Individual   \n",
       "4      Maruti  2007         130000     120000  Petrol  Individual   \n",
       "...       ...   ...            ...        ...     ...         ...   \n",
       "8123  Hyundai  2013         320000     110000  Petrol  Individual   \n",
       "8124  Hyundai  2007         135000     119000  Diesel  Individual   \n",
       "8125   Maruti  2009         382000     120000  Diesel  Individual   \n",
       "8126     Tata  2013         290000      25000  Diesel  Individual   \n",
       "8127     Tata  2013         290000      25000  Diesel  Individual   \n",
       "\n",
       "     transmission  owner  mileage  engine  max_power  seats  \n",
       "0          Manual      1    23.40  1248.0      74.00    5.0  \n",
       "1          Manual      2    21.14  1498.0     103.52    5.0  \n",
       "2          Manual      3    17.70  1497.0      78.00    5.0  \n",
       "3          Manual      1    23.00  1396.0      90.00    5.0  \n",
       "4          Manual      1    16.10  1298.0      88.20    5.0  \n",
       "...           ...    ...      ...     ...        ...    ...  \n",
       "8123       Manual      1    18.50  1197.0      82.85    5.0  \n",
       "8124       Manual      4    16.80  1493.0     110.00    5.0  \n",
       "8125       Manual      1    19.30  1248.0      73.90    5.0  \n",
       "8126       Manual      1    23.57  1396.0      70.00    5.0  \n",
       "8127       Manual      1    23.57  1396.0      70.00    5.0  \n",
       "\n",
       "[8033 rows x 12 columns]"
      ]
     },
     "execution_count": 174,
     "metadata": {},
     "output_type": "execute_result"
    }
   ],
   "source": [
    "df"
   ]
  },
  {
   "cell_type": "code",
   "execution_count": 175,
   "id": "6332791a",
   "metadata": {},
   "outputs": [
    {
     "data": {
      "text/plain": [
       "array([1, 2, 3, 4, 5])"
      ]
     },
     "execution_count": 175,
     "metadata": {},
     "output_type": "execute_result"
    }
   ],
   "source": [
    "df['owner'].unique()"
   ]
  },
  {
   "cell_type": "code",
   "execution_count": 176,
   "id": "0d434f06",
   "metadata": {},
   "outputs": [
    {
     "data": {
      "text/plain": [
       "dtype('int64')"
      ]
     },
     "execution_count": 176,
     "metadata": {},
     "output_type": "execute_result"
    }
   ],
   "source": [
    "df['owner'].dtype"
   ]
  },
  {
   "cell_type": "code",
   "execution_count": 177,
   "id": "a392ebda",
   "metadata": {},
   "outputs": [
    {
     "data": {
      "text/plain": [
       "array([1, 2, 3, 4])"
      ]
     },
     "execution_count": 177,
     "metadata": {},
     "output_type": "execute_result"
    }
   ],
   "source": [
    "df = df[df['owner'] !=5] # Removing test drive cars\n",
    "df['owner'].unique()"
   ]
  },
  {
   "cell_type": "code",
   "execution_count": 178,
   "id": "27c8c9bd",
   "metadata": {},
   "outputs": [
    {
     "data": {
      "text/plain": [
       "0       450000\n",
       "1       370000\n",
       "2       158000\n",
       "3       225000\n",
       "4       130000\n",
       "         ...  \n",
       "8123    320000\n",
       "8124    135000\n",
       "8125    382000\n",
       "8126    290000\n",
       "8127    290000\n",
       "Name: selling_price, Length: 8028, dtype: int64"
      ]
     },
     "execution_count": 178,
     "metadata": {},
     "output_type": "execute_result"
    }
   ],
   "source": [
    "df['selling_price']"
   ]
  },
  {
   "cell_type": "code",
   "execution_count": 179,
   "id": "8eb0cdc3",
   "metadata": {},
   "outputs": [
    {
     "data": {
      "text/html": [
       "<div>\n",
       "<style scoped>\n",
       "    .dataframe tbody tr th:only-of-type {\n",
       "        vertical-align: middle;\n",
       "    }\n",
       "\n",
       "    .dataframe tbody tr th {\n",
       "        vertical-align: top;\n",
       "    }\n",
       "\n",
       "    .dataframe thead th {\n",
       "        text-align: right;\n",
       "    }\n",
       "</style>\n",
       "<table border=\"1\" class=\"dataframe\">\n",
       "  <thead>\n",
       "    <tr style=\"text-align: right;\">\n",
       "      <th></th>\n",
       "      <th>brand</th>\n",
       "      <th>year</th>\n",
       "      <th>selling_price</th>\n",
       "      <th>km_driven</th>\n",
       "      <th>fuel</th>\n",
       "      <th>seller_type</th>\n",
       "      <th>transmission</th>\n",
       "      <th>owner</th>\n",
       "      <th>mileage</th>\n",
       "      <th>engine</th>\n",
       "      <th>max_power</th>\n",
       "      <th>seats</th>\n",
       "    </tr>\n",
       "  </thead>\n",
       "  <tbody>\n",
       "    <tr>\n",
       "      <th>0</th>\n",
       "      <td>Maruti</td>\n",
       "      <td>2014</td>\n",
       "      <td>450000</td>\n",
       "      <td>145500</td>\n",
       "      <td>Diesel</td>\n",
       "      <td>Individual</td>\n",
       "      <td>Manual</td>\n",
       "      <td>1</td>\n",
       "      <td>23.40</td>\n",
       "      <td>1248.0</td>\n",
       "      <td>74.00</td>\n",
       "      <td>5.0</td>\n",
       "    </tr>\n",
       "    <tr>\n",
       "      <th>1</th>\n",
       "      <td>Skoda</td>\n",
       "      <td>2014</td>\n",
       "      <td>370000</td>\n",
       "      <td>120000</td>\n",
       "      <td>Diesel</td>\n",
       "      <td>Individual</td>\n",
       "      <td>Manual</td>\n",
       "      <td>2</td>\n",
       "      <td>21.14</td>\n",
       "      <td>1498.0</td>\n",
       "      <td>103.52</td>\n",
       "      <td>5.0</td>\n",
       "    </tr>\n",
       "    <tr>\n",
       "      <th>2</th>\n",
       "      <td>Honda</td>\n",
       "      <td>2006</td>\n",
       "      <td>158000</td>\n",
       "      <td>140000</td>\n",
       "      <td>Petrol</td>\n",
       "      <td>Individual</td>\n",
       "      <td>Manual</td>\n",
       "      <td>3</td>\n",
       "      <td>17.70</td>\n",
       "      <td>1497.0</td>\n",
       "      <td>78.00</td>\n",
       "      <td>5.0</td>\n",
       "    </tr>\n",
       "    <tr>\n",
       "      <th>3</th>\n",
       "      <td>Hyundai</td>\n",
       "      <td>2010</td>\n",
       "      <td>225000</td>\n",
       "      <td>127000</td>\n",
       "      <td>Diesel</td>\n",
       "      <td>Individual</td>\n",
       "      <td>Manual</td>\n",
       "      <td>1</td>\n",
       "      <td>23.00</td>\n",
       "      <td>1396.0</td>\n",
       "      <td>90.00</td>\n",
       "      <td>5.0</td>\n",
       "    </tr>\n",
       "    <tr>\n",
       "      <th>4</th>\n",
       "      <td>Maruti</td>\n",
       "      <td>2007</td>\n",
       "      <td>130000</td>\n",
       "      <td>120000</td>\n",
       "      <td>Petrol</td>\n",
       "      <td>Individual</td>\n",
       "      <td>Manual</td>\n",
       "      <td>1</td>\n",
       "      <td>16.10</td>\n",
       "      <td>1298.0</td>\n",
       "      <td>88.20</td>\n",
       "      <td>5.0</td>\n",
       "    </tr>\n",
       "  </tbody>\n",
       "</table>\n",
       "</div>"
      ],
      "text/plain": [
       "     brand  year  selling_price  km_driven    fuel seller_type transmission  \\\n",
       "0   Maruti  2014         450000     145500  Diesel  Individual       Manual   \n",
       "1    Skoda  2014         370000     120000  Diesel  Individual       Manual   \n",
       "2    Honda  2006         158000     140000  Petrol  Individual       Manual   \n",
       "3  Hyundai  2010         225000     127000  Diesel  Individual       Manual   \n",
       "4   Maruti  2007         130000     120000  Petrol  Individual       Manual   \n",
       "\n",
       "   owner  mileage  engine  max_power  seats  \n",
       "0      1    23.40  1248.0      74.00    5.0  \n",
       "1      2    21.14  1498.0     103.52    5.0  \n",
       "2      3    17.70  1497.0      78.00    5.0  \n",
       "3      1    23.00  1396.0      90.00    5.0  \n",
       "4      1    16.10  1298.0      88.20    5.0  "
      ]
     },
     "execution_count": 179,
     "metadata": {},
     "output_type": "execute_result"
    }
   ],
   "source": [
    "df.head()"
   ]
  },
  {
   "cell_type": "code",
   "execution_count": 180,
   "id": "d64b5afb",
   "metadata": {},
   "outputs": [
    {
     "data": {
      "text/plain": [
       "brand              0\n",
       "year               0\n",
       "selling_price      0\n",
       "km_driven          0\n",
       "fuel               0\n",
       "seller_type        0\n",
       "transmission       0\n",
       "owner              0\n",
       "mileage          214\n",
       "engine           214\n",
       "max_power        208\n",
       "seats            214\n",
       "dtype: int64"
      ]
     },
     "execution_count": 180,
     "metadata": {},
     "output_type": "execute_result"
    }
   ],
   "source": [
    "df.isna().sum()"
   ]
  },
  {
   "cell_type": "code",
   "execution_count": 181,
   "id": "1927d370",
   "metadata": {},
   "outputs": [],
   "source": [
    "for col in ['mileage', 'engine', 'max_power']:\n",
    "    df[col].fillna(df[col].median(), inplace=True)"
   ]
  },
  {
   "cell_type": "code",
   "execution_count": 182,
   "id": "aa154d8b",
   "metadata": {},
   "outputs": [],
   "source": [
    "df['seats'] = df['seats'].fillna(df['seats'].mode()[0])"
   ]
  },
  {
   "cell_type": "code",
   "execution_count": 183,
   "id": "95c4abea",
   "metadata": {},
   "outputs": [
    {
     "data": {
      "text/plain": [
       "brand            0\n",
       "year             0\n",
       "selling_price    0\n",
       "km_driven        0\n",
       "fuel             0\n",
       "seller_type      0\n",
       "transmission     0\n",
       "owner            0\n",
       "mileage          0\n",
       "engine           0\n",
       "max_power        0\n",
       "seats            0\n",
       "dtype: int64"
      ]
     },
     "execution_count": 183,
     "metadata": {},
     "output_type": "execute_result"
    }
   ],
   "source": [
    "df.isna().sum()"
   ]
  },
  {
   "cell_type": "code",
   "execution_count": 184,
   "id": "55c4aad5",
   "metadata": {},
   "outputs": [
    {
     "data": {
      "text/plain": [
       "<Axes: xlabel='owner', ylabel='count'>"
      ]
     },
     "execution_count": 184,
     "metadata": {},
     "output_type": "execute_result"
    },
    {
     "data": {
      "image/png": "[encoded data removed]",
      "text/plain": [
       "<Figure size 640x480 with 1 Axes>"
      ]
     },
     "metadata": {},
     "output_type": "display_data"
    }
   ],
   "source": [
    "sns.countplot(data = df, x = 'owner') # Univariate analysis. Countplot."
   ]
  },
  {
   "cell_type": "code",
   "execution_count": 185,
   "id": "71724745",
   "metadata": {},
   "outputs": [
    {
     "data": {
      "text/plain": [
       "<Axes: xlabel='fuel', ylabel='count'>"
      ]
     },
     "execution_count": 185,
     "metadata": {},
     "output_type": "execute_result"
    },
    {
     "data": {
      "image/png": "[encoded data removed]",
      "text/plain": [
       "<Figure size 640x480 with 1 Axes>"
      ]
     },
     "metadata": {},
     "output_type": "display_data"
    }
   ],
   "source": [
    "sns.countplot(data = df, x = 'fuel')"
   ]
  },
  {
   "cell_type": "code",
   "execution_count": 186,
   "id": "8c1e3ec9",
   "metadata": {},
   "outputs": [
    {
     "data": {
      "text/plain": [
       "<Axes: xlabel='transmission', ylabel='count'>"
      ]
     },
     "execution_count": 186,
     "metadata": {},
     "output_type": "execute_result"
    },
    {
     "data": {
      "image/png": "[encoded data removed]",
      "text/plain": [
       "<Figure size 640x480 with 1 Axes>"
      ]
     },
     "metadata": {},
     "output_type": "display_data"
    }
   ],
   "source": [
    "sns.countplot(data = df, x = 'transmission')"
   ]
  },
  {
   "cell_type": "code",
   "execution_count": 187,
   "id": "9460a664",
   "metadata": {},
   "outputs": [
    {
     "data": {
      "text/plain": [
       "<Axes: xlabel='seats', ylabel='count'>"
      ]
     },
     "execution_count": 187,
     "metadata": {},
     "output_type": "execute_result"
    },
    {
     "data": {
      "image/png": "[encoded data removed]",
      "text/plain": [
       "<Figure size 640x480 with 1 Axes>"
      ]
     },
     "metadata": {},
     "output_type": "display_data"
    }
   ],
   "source": [
    "sns.countplot(data = df, x = 'seats')"
   ]
  },
  {
   "cell_type": "code",
   "execution_count": 188,
   "id": "28d9834e",
   "metadata": {},
   "outputs": [
    {
     "data": {
      "text/plain": [
       "Text(0.5, 0, 'engine')"
      ]
     },
     "execution_count": 188,
     "metadata": {},
     "output_type": "execute_result"
    },
    {
     "data": {
      "image/png": "[encoded data removed]",
      "text/plain": [
       "<Figure size 640x480 with 1 Axes>"
      ]
     },
     "metadata": {},
     "output_type": "display_data"
    }
   ],
   "source": [
    "sns.boxplot(x = df[\"engine\"], y = df[\"fuel\"]); #Boxplot\n",
    "plt.ylabel(\"fuel\")\n",
    "plt.xlabel(\"engine\")"
   ]
  },
  {
   "cell_type": "code",
   "execution_count": 189,
   "id": "04dab842",
   "metadata": {},
   "outputs": [
    {
     "data": {
      "text/plain": [
       "<Axes: xlabel='mileage', ylabel='engine'>"
      ]
     },
     "execution_count": 189,
     "metadata": {},
     "output_type": "execute_result"
    },
    {
     "data": {
      "image/png": "[encoded data removed]",
      "text/plain": [
       "<Figure size 640x480 with 1 Axes>"
      ]
     },
     "metadata": {},
     "output_type": "display_data"
    }
   ],
   "source": [
    "\n",
    "sns.scatterplot(x = df['mileage'], y = df['engine'], hue=df['max_power']) #scatterplot"
   ]
  },
  {
   "cell_type": "code",
   "execution_count": 190,
   "id": "f7ff0f0a",
   "metadata": {},
   "outputs": [
    {
     "data": {
      "text/plain": [
       "<Axes: xlabel='mileage', ylabel='year'>"
      ]
     },
     "execution_count": 190,
     "metadata": {},
     "output_type": "execute_result"
    },
    {
     "data": {
      "image/png": "[encoded data removed]",
      "text/plain": [
       "<Figure size 640x480 with 1 Axes>"
      ]
     },
     "metadata": {},
     "output_type": "display_data"
    }
   ],
   "source": [
    "\n",
    "sns.scatterplot(x = df['mileage'], y = df['year'], hue=df['selling_price'])"
   ]
  },
  {
   "cell_type": "code",
   "execution_count": 191,
   "id": "e0931075",
   "metadata": {},
   "outputs": [
    {
     "data": {
      "text/html": [
       "<div>\n",
       "<style scoped>\n",
       "    .dataframe tbody tr th:only-of-type {\n",
       "        vertical-align: middle;\n",
       "    }\n",
       "\n",
       "    .dataframe tbody tr th {\n",
       "        vertical-align: top;\n",
       "    }\n",
       "\n",
       "    .dataframe thead th {\n",
       "        text-align: right;\n",
       "    }\n",
       "</style>\n",
       "<table border=\"1\" class=\"dataframe\">\n",
       "  <thead>\n",
       "    <tr style=\"text-align: right;\">\n",
       "      <th></th>\n",
       "      <th>brand</th>\n",
       "      <th>year</th>\n",
       "      <th>selling_price</th>\n",
       "      <th>km_driven</th>\n",
       "      <th>fuel</th>\n",
       "      <th>seller_type</th>\n",
       "      <th>transmission</th>\n",
       "      <th>owner</th>\n",
       "      <th>mileage</th>\n",
       "      <th>engine</th>\n",
       "      <th>max_power</th>\n",
       "      <th>seats</th>\n",
       "    </tr>\n",
       "  </thead>\n",
       "  <tbody>\n",
       "    <tr>\n",
       "      <th>0</th>\n",
       "      <td>Maruti</td>\n",
       "      <td>2014</td>\n",
       "      <td>450000</td>\n",
       "      <td>145500</td>\n",
       "      <td>Diesel</td>\n",
       "      <td>Individual</td>\n",
       "      <td>Manual</td>\n",
       "      <td>1</td>\n",
       "      <td>23.40</td>\n",
       "      <td>1248.0</td>\n",
       "      <td>74.00</td>\n",
       "      <td>5.0</td>\n",
       "    </tr>\n",
       "    <tr>\n",
       "      <th>1</th>\n",
       "      <td>Skoda</td>\n",
       "      <td>2014</td>\n",
       "      <td>370000</td>\n",
       "      <td>120000</td>\n",
       "      <td>Diesel</td>\n",
       "      <td>Individual</td>\n",
       "      <td>Manual</td>\n",
       "      <td>2</td>\n",
       "      <td>21.14</td>\n",
       "      <td>1498.0</td>\n",
       "      <td>103.52</td>\n",
       "      <td>5.0</td>\n",
       "    </tr>\n",
       "    <tr>\n",
       "      <th>2</th>\n",
       "      <td>Honda</td>\n",
       "      <td>2006</td>\n",
       "      <td>158000</td>\n",
       "      <td>140000</td>\n",
       "      <td>Petrol</td>\n",
       "      <td>Individual</td>\n",
       "      <td>Manual</td>\n",
       "      <td>3</td>\n",
       "      <td>17.70</td>\n",
       "      <td>1497.0</td>\n",
       "      <td>78.00</td>\n",
       "      <td>5.0</td>\n",
       "    </tr>\n",
       "    <tr>\n",
       "      <th>3</th>\n",
       "      <td>Hyundai</td>\n",
       "      <td>2010</td>\n",
       "      <td>225000</td>\n",
       "      <td>127000</td>\n",
       "      <td>Diesel</td>\n",
       "      <td>Individual</td>\n",
       "      <td>Manual</td>\n",
       "      <td>1</td>\n",
       "      <td>23.00</td>\n",
       "      <td>1396.0</td>\n",
       "      <td>90.00</td>\n",
       "      <td>5.0</td>\n",
       "    </tr>\n",
       "    <tr>\n",
       "      <th>4</th>\n",
       "      <td>Maruti</td>\n",
       "      <td>2007</td>\n",
       "      <td>130000</td>\n",
       "      <td>120000</td>\n",
       "      <td>Petrol</td>\n",
       "      <td>Individual</td>\n",
       "      <td>Manual</td>\n",
       "      <td>1</td>\n",
       "      <td>16.10</td>\n",
       "      <td>1298.0</td>\n",
       "      <td>88.20</td>\n",
       "      <td>5.0</td>\n",
       "    </tr>\n",
       "    <tr>\n",
       "      <th>...</th>\n",
       "      <td>...</td>\n",
       "      <td>...</td>\n",
       "      <td>...</td>\n",
       "      <td>...</td>\n",
       "      <td>...</td>\n",
       "      <td>...</td>\n",
       "      <td>...</td>\n",
       "      <td>...</td>\n",
       "      <td>...</td>\n",
       "      <td>...</td>\n",
       "      <td>...</td>\n",
       "      <td>...</td>\n",
       "    </tr>\n",
       "    <tr>\n",
       "      <th>8123</th>\n",
       "      <td>Hyundai</td>\n",
       "      <td>2013</td>\n",
       "      <td>320000</td>\n",
       "      <td>110000</td>\n",
       "      <td>Petrol</td>\n",
       "      <td>Individual</td>\n",
       "      <td>Manual</td>\n",
       "      <td>1</td>\n",
       "      <td>18.50</td>\n",
       "      <td>1197.0</td>\n",
       "      <td>82.85</td>\n",
       "      <td>5.0</td>\n",
       "    </tr>\n",
       "    <tr>\n",
       "      <th>8124</th>\n",
       "      <td>Hyundai</td>\n",
       "      <td>2007</td>\n",
       "      <td>135000</td>\n",
       "      <td>119000</td>\n",
       "      <td>Diesel</td>\n",
       "      <td>Individual</td>\n",
       "      <td>Manual</td>\n",
       "      <td>4</td>\n",
       "      <td>16.80</td>\n",
       "      <td>1493.0</td>\n",
       "      <td>110.00</td>\n",
       "      <td>5.0</td>\n",
       "    </tr>\n",
       "    <tr>\n",
       "      <th>8125</th>\n",
       "      <td>Maruti</td>\n",
       "      <td>2009</td>\n",
       "      <td>382000</td>\n",
       "      <td>120000</td>\n",
       "      <td>Diesel</td>\n",
       "      <td>Individual</td>\n",
       "      <td>Manual</td>\n",
       "      <td>1</td>\n",
       "      <td>19.30</td>\n",
       "      <td>1248.0</td>\n",
       "      <td>73.90</td>\n",
       "      <td>5.0</td>\n",
       "    </tr>\n",
       "    <tr>\n",
       "      <th>8126</th>\n",
       "      <td>Tata</td>\n",
       "      <td>2013</td>\n",
       "      <td>290000</td>\n",
       "      <td>25000</td>\n",
       "      <td>Diesel</td>\n",
       "      <td>Individual</td>\n",
       "      <td>Manual</td>\n",
       "      <td>1</td>\n",
       "      <td>23.57</td>\n",
       "      <td>1396.0</td>\n",
       "      <td>70.00</td>\n",
       "      <td>5.0</td>\n",
       "    </tr>\n",
       "    <tr>\n",
       "      <th>8127</th>\n",
       "      <td>Tata</td>\n",
       "      <td>2013</td>\n",
       "      <td>290000</td>\n",
       "      <td>25000</td>\n",
       "      <td>Diesel</td>\n",
       "      <td>Individual</td>\n",
       "      <td>Manual</td>\n",
       "      <td>1</td>\n",
       "      <td>23.57</td>\n",
       "      <td>1396.0</td>\n",
       "      <td>70.00</td>\n",
       "      <td>5.0</td>\n",
       "    </tr>\n",
       "  </tbody>\n",
       "</table>\n",
       "<p>8028 rows × 12 columns</p>\n",
       "</div>"
      ],
      "text/plain": [
       "        brand  year  selling_price  km_driven    fuel seller_type  \\\n",
       "0      Maruti  2014         450000     145500  Diesel  Individual   \n",
       "1       Skoda  2014         370000     120000  Diesel  Individual   \n",
       "2       Honda  2006         158000     140000  Petrol  Individual   \n",
       "3     Hyundai  2010         225000     127000  Diesel  Individual   \n",
       "4      Maruti  2007         130000     120000  Petrol  Individual   \n",
       "...       ...   ...            ...        ...     ...         ...   \n",
       "8123  Hyundai  2013         320000     110000  Petrol  Individual   \n",
       "8124  Hyundai  2007         135000     119000  Diesel  Individual   \n",
       "8125   Maruti  2009         382000     120000  Diesel  Individual   \n",
       "8126     Tata  2013         290000      25000  Diesel  Individual   \n",
       "8127     Tata  2013         290000      25000  Diesel  Individual   \n",
       "\n",
       "     transmission  owner  mileage  engine  max_power  seats  \n",
       "0          Manual      1    23.40  1248.0      74.00    5.0  \n",
       "1          Manual      2    21.14  1498.0     103.52    5.0  \n",
       "2          Manual      3    17.70  1497.0      78.00    5.0  \n",
       "3          Manual      1    23.00  1396.0      90.00    5.0  \n",
       "4          Manual      1    16.10  1298.0      88.20    5.0  \n",
       "...           ...    ...      ...     ...        ...    ...  \n",
       "8123       Manual      1    18.50  1197.0      82.85    5.0  \n",
       "8124       Manual      4    16.80  1493.0     110.00    5.0  \n",
       "8125       Manual      1    19.30  1248.0      73.90    5.0  \n",
       "8126       Manual      1    23.57  1396.0      70.00    5.0  \n",
       "8127       Manual      1    23.57  1396.0      70.00    5.0  \n",
       "\n",
       "[8028 rows x 12 columns]"
      ]
     },
     "execution_count": 191,
     "metadata": {},
     "output_type": "execute_result"
    }
   ],
   "source": [
    "df"
   ]
  },
  {
   "cell_type": "code",
   "execution_count": 192,
   "id": "a1b4592c",
   "metadata": {},
   "outputs": [
    {
     "name": "stdout",
     "output_type": "stream",
     "text": [
      "['Diesel' 'Petrol']\n",
      "['Maruti' 'Skoda' 'Honda' 'Hyundai' 'Toyota' 'Ford' 'Renault' 'Mahindra'\n",
      " 'Tata' 'Chevrolet' 'Fiat' 'Datsun' 'Jeep' 'Mercedes-Benz' 'Mitsubishi'\n",
      " 'Audi' 'Volkswagen' 'BMW' 'Nissan' 'Lexus' 'Jaguar' 'Land' 'MG' 'Volvo'\n",
      " 'Daewoo' 'Kia' 'Force' 'Ambassador' 'Ashok' 'Isuzu' 'Opel' 'Peugeot']\n",
      "['Manual' 'Automatic']\n"
     ]
    }
   ],
   "source": [
    "print(df['fuel'].unique())\n",
    "print(df['brand'].unique())\n",
    "print(df['transmission'].unique())\n",
    "\n"
   ]
  },
  {
   "cell_type": "code",
   "execution_count": 193,
   "id": "6039b523",
   "metadata": {},
   "outputs": [
    {
     "data": {
      "text/plain": [
       "brand             object\n",
       "year               int64\n",
       "selling_price      int64\n",
       "km_driven          int64\n",
       "fuel              object\n",
       "seller_type       object\n",
       "transmission      object\n",
       "owner              int64\n",
       "mileage          float64\n",
       "engine           float64\n",
       "max_power        float64\n",
       "seats            float64\n",
       "dtype: object"
      ]
     },
     "execution_count": 193,
     "metadata": {},
     "output_type": "execute_result"
    }
   ],
   "source": [
    "df.dtypes #checking datatypes"
   ]
  },
  {
   "cell_type": "code",
   "execution_count": 194,
   "id": "d57037c0",
   "metadata": {},
   "outputs": [
    {
     "data": {
      "text/plain": [
       "Index(['brand', 'year', 'selling_price', 'km_driven', 'fuel', 'seller_type',\n",
       "       'transmission', 'owner', 'mileage', 'engine', 'max_power', 'seats'],\n",
       "      dtype='object')"
      ]
     },
     "execution_count": 194,
     "metadata": {},
     "output_type": "execute_result"
    }
   ],
   "source": [
    "df.columns"
   ]
  },
  {
   "cell_type": "code",
   "execution_count": 195,
   "id": "717a9f5f",
   "metadata": {},
   "outputs": [],
   "source": [
    "\n",
    "\n",
    "# le = LabelEncoder()\n",
    "# df[\"fuel\"] = le.fit_transform(df[\"fuel\"])\n",
    "\n",
    "# df[\"fuel\"].unique()\n",
    " # 0 = diesel and 1 = petrol \n",
    " # transforming object "
   ]
  },
  {
   "cell_type": "code",
   "execution_count": 196,
   "id": "3b3e4f75",
   "metadata": {},
   "outputs": [],
   "source": [
    "# df[\"km_driven\"] = le.fit_transform(df[\"km_driven\"])\n",
    "\n",
    "# df[\"km_driven\"].unique()"
   ]
  },
  {
   "cell_type": "code",
   "execution_count": 197,
   "id": "3a8f571e",
   "metadata": {},
   "outputs": [],
   "source": [
    "# df[\"mileage\"] = le.fit_transform(df[\"mileage\"])\n",
    "\n",
    "# df[\"mileage\"].unique()"
   ]
  },
  {
   "cell_type": "code",
   "execution_count": 198,
   "id": "4d7d2734",
   "metadata": {},
   "outputs": [],
   "source": [
    "# df[\"engine\"] = le.fit_transform(df[\"engine\"])\n",
    "\n",
    "# df[\"engine\"].unique()"
   ]
  },
  {
   "cell_type": "code",
   "execution_count": 199,
   "id": "d698a929",
   "metadata": {},
   "outputs": [],
   "source": [
    "# df[\"max_power\"] = le.fit_transform(df[\"max_power\"])\n",
    "\n",
    "# df[\"max_power\"].unique()"
   ]
  },
  {
   "cell_type": "code",
   "execution_count": 200,
   "id": "e78236ce",
   "metadata": {},
   "outputs": [],
   "source": [
    "# df[\"seats\"] = le.fit_transform(df[\"seats\"])\n",
    "\n",
    "# df[\"seats\"].unique()"
   ]
  },
  {
   "cell_type": "code",
   "execution_count": 201,
   "id": "bede710f",
   "metadata": {},
   "outputs": [],
   "source": [
    "# from sklearn.preprocessing import LabelEncoder\n",
    "\n",
    "# le = LabelEncoder()\n",
    "# df[\"seller_type\"] = le.fit_transform(df[\"seller_type\"])\n",
    "\n",
    "# df[\"seller_type\"].unique() #using fit transform to change object into 1, 0, 2 ie the individual, dealer and trademark dealer"
   ]
  },
  {
   "cell_type": "code",
   "execution_count": 202,
   "id": "b2e9dbfd",
   "metadata": {},
   "outputs": [],
   "source": [
    "# from sklearn.preprocessing import LabelEncoder\n",
    "\n",
    "# le = LabelEncoder()\n",
    "# df[\"transmission\"] = le.fit_transform(df[\"transmission\"])\n",
    "\n",
    "# df[\"transmission\"].unique() "
   ]
  },
  {
   "cell_type": "code",
   "execution_count": 203,
   "id": "88ea92fa",
   "metadata": {},
   "outputs": [],
   "source": [
    "# from sklearn.preprocessing import LabelEncoder\n",
    "\n",
    "# le = LabelEncoder()\n",
    "# df[\"brand\"] = le.fit_transform(df[\"brand\"])\n",
    "\n",
    "# df[\"brand\"].unique() #assigning brand names of cars with numeric values"
   ]
  },
  {
   "cell_type": "code",
   "execution_count": 204,
   "id": "cc060950",
   "metadata": {},
   "outputs": [],
   "source": [
    "\n",
    "# le = LabelEncoder()\n",
    "# df[\"year\"] = le.fit_transform(df[\"year\"])\n",
    "\n",
    "# df[\"year\"].unique() "
   ]
  },
  {
   "cell_type": "code",
   "execution_count": 205,
   "id": "68125cda",
   "metadata": {},
   "outputs": [],
   "source": [
    "# df[\"owner\"] = le.fit_transform(df[\"owner\"])\n",
    "\n",
    "# df[\"owner\"].unique()"
   ]
  },
  {
   "cell_type": "code",
   "execution_count": 206,
   "id": "b459ea73",
   "metadata": {},
   "outputs": [
    {
     "data": {
      "image/png": "[encoded data removed]",
      "text/plain": [
       "<Figure size 1200x1000 with 2 Axes>"
      ]
     },
     "metadata": {},
     "output_type": "display_data"
    }
   ],
   "source": [
    "# Correlation analysis\n",
    "from sklearn.preprocessing import LabelEncoder\n",
    "# Create a copy for correlation analysis\n",
    "corr_data = df.copy()\n",
    "\n",
    "# Encode categorical variables\n",
    "cat_cols = corr_data.select_dtypes(exclude='number').columns\n",
    "le_dict = {}\n",
    "for col in cat_cols:\n",
    "    le = LabelEncoder()\n",
    "    corr_data[col] = le.fit_transform(corr_data[col].astype(str))\n",
    "    le_dict[col] = le\n",
    "\n",
    "# Calculate correlation matrix\n",
    "corr_matrix = corr_data.corr()\n",
    "\n",
    "# Plot correlation heatmap\n",
    "plt.figure(figsize=(12, 10))\n",
    "sns.heatmap(corr_matrix, annot=True, cmap='coolwarm', center=0)\n",
    "plt.title(\"Correlation Matrix\")\n",
    "plt.show()"
   ]
  },
  {
   "cell_type": "code",
   "execution_count": 207,
   "id": "4f609c1c",
   "metadata": {},
   "outputs": [],
   "source": [
    "# df = df.drop(columns=['owner'])\n",
    "# df # dropping the columns year, transmission and owners brand', 'year', 'selling_price', 'km_driven', 'fuel', 'seller_type',"
   ]
  },
  {
   "cell_type": "code",
   "execution_count": 208,
   "id": "bf6ef94b",
   "metadata": {},
   "outputs": [],
   "source": [
    "X = df[['brand', 'km_driven', 'fuel', 'seller_type', 'mileage', 'engine', 'max_power', 'year', 'seats', 'transmission', 'owner']] #features we will take to train and test the model\n",
    "y = df['selling_price'] #feature engineering the data x are the features we use to get the y where y is the selling price of cars"
   ]
  },
  {
   "cell_type": "code",
   "execution_count": 209,
   "id": "e286f628",
   "metadata": {},
   "outputs": [],
   "source": [
    "y = pd.qcut(y, q=4, labels=[0,1,2,3])"
   ]
  },
  {
   "cell_type": "code",
   "execution_count": 210,
   "id": "8fb0d2eb",
   "metadata": {},
   "outputs": [
    {
     "data": {
      "text/plain": [
       "selling_price\n",
       "0    2050\n",
       "1    2044\n",
       "3    1991\n",
       "2    1943\n",
       "Name: count, dtype: int64"
      ]
     },
     "execution_count": 210,
     "metadata": {},
     "output_type": "execute_result"
    }
   ],
   "source": [
    "y.value_counts()"
   ]
  },
  {
   "cell_type": "code",
   "execution_count": 211,
   "id": "196809bf",
   "metadata": {},
   "outputs": [],
   "source": [
    "from sklearn.model_selection import train_test_split\n",
    "\n",
    "X_train, X_test, y_train, y_test = train_test_split(X, y, test_size = 0.3, random_state = 42) # Splitting the data into train set and test set"
   ]
  },
  {
   "cell_type": "code",
   "execution_count": 212,
   "id": "a2188a69",
   "metadata": {},
   "outputs": [
    {
     "data": {
      "text/plain": [
       "((5619, 11), (2409, 11), (5619,), (2409,))"
      ]
     },
     "execution_count": 212,
     "metadata": {},
     "output_type": "execute_result"
    }
   ],
   "source": [
    "X_train.shape, X_test.shape, y_train.shape, y_test.shape"
   ]
  },
  {
   "cell_type": "code",
   "execution_count": 213,
   "id": "ebb3fbc0",
   "metadata": {},
   "outputs": [],
   "source": [
    "cat_cols = ['fuel', 'seller_type', 'transmission', 'brand']\n",
    "numeric_cols = ['year', 'km_driven', 'mileage', 'owner', 'engine', 'max_power', 'seats']"
   ]
  },
  {
   "cell_type": "code",
   "execution_count": 214,
   "id": "046d4d8d",
   "metadata": {},
   "outputs": [],
   "source": [
    "all_cols = numeric_cols + cat_cols\n",
    "X_train = X_train[all_cols].copy()\n",
    "X_test  = X_test[all_cols].copy()"
   ]
  },
  {
   "cell_type": "code",
   "execution_count": 215,
   "id": "1b5614c5",
   "metadata": {},
   "outputs": [],
   "source": [
    "# Dictionary to hold encoders\n",
    "from sklearn.preprocessing import OrdinalEncoder\n",
    "\n",
    "\n",
    "encoder = OrdinalEncoder(handle_unknown='use_encoded_value', unknown_value=-1)\n",
    "\n",
    "# Fit on training data\n",
    "X_train[cat_cols] = encoder.fit_transform(X_train[cat_cols])\n",
    "\n",
    "# Transform test data (unknown categories become -1)\n",
    "X_test[cat_cols] = encoder.transform(X_test[cat_cols])"
   ]
  },
  {
   "cell_type": "code",
   "execution_count": 216,
   "id": "9a291896",
   "metadata": {},
   "outputs": [
    {
     "data": {
      "text/plain": [
       "<seaborn.axisgrid.FacetGrid at 0x1a40c3ed590>"
      ]
     },
     "execution_count": 216,
     "metadata": {},
     "output_type": "execute_result"
    },
    {
     "data": {
      "image/png": "[encoded data removed]",
      "text/plain": [
       "<Figure size 500x500 with 1 Axes>"
      ]
     },
     "metadata": {},
     "output_type": "display_data"
    }
   ],
   "source": [
    "sns.displot(data=df, x='mileage') # plotting the data"
   ]
  },
  {
   "cell_type": "code",
   "execution_count": 217,
   "id": "98c210f2",
   "metadata": {},
   "outputs": [
    {
     "data": {
      "text/plain": [
       "<seaborn.axisgrid.FacetGrid at 0x1a4074316d0>"
      ]
     },
     "execution_count": 217,
     "metadata": {},
     "output_type": "execute_result"
    },
    {
     "data": {
      "image/png": "[encoded data removed]",
      "text/plain": [
       "<Figure size 500x500 with 1 Axes>"
      ]
     },
     "metadata": {},
     "output_type": "display_data"
    }
   ],
   "source": [
    "sns.displot(data=df, x='engine')"
   ]
  },
  {
   "cell_type": "code",
   "execution_count": 218,
   "id": "a74b9cfa",
   "metadata": {},
   "outputs": [
    {
     "data": {
      "text/plain": [
       "<seaborn.axisgrid.FacetGrid at 0x1a40c229590>"
      ]
     },
     "execution_count": 218,
     "metadata": {},
     "output_type": "execute_result"
    },
    {
     "data": {
      "image/png": "[encoded data removed]",
      "text/plain": [
       "<Figure size 500x500 with 1 Axes>"
      ]
     },
     "metadata": {},
     "output_type": "display_data"
    }
   ],
   "source": [
    "sns.displot(data=df, x='max_power')"
   ]
  },
  {
   "cell_type": "code",
   "execution_count": 219,
   "id": "aff89ec2",
   "metadata": {},
   "outputs": [
    {
     "data": {
      "text/plain": [
       "<seaborn.axisgrid.FacetGrid at 0x1a4070e5450>"
      ]
     },
     "execution_count": 219,
     "metadata": {},
     "output_type": "execute_result"
    },
    {
     "data": {
      "image/png": "[encoded data removed]",
      "text/plain": [
       "<Figure size 500x500 with 1 Axes>"
      ]
     },
     "metadata": {},
     "output_type": "display_data"
    }
   ],
   "source": [
    "sns.displot(data=df, x='seats')"
   ]
  },
  {
   "cell_type": "code",
   "execution_count": 220,
   "id": "22bd5f21",
   "metadata": {},
   "outputs": [
    {
     "data": {
      "image/png": "[encoded data removed]",
      "text/plain": [
       "<Figure size 2000x3000 with 8 Axes>"
      ]
     },
     "metadata": {},
     "output_type": "display_data"
    }
   ],
   "source": [
    "col_dict = {'brand':1,'km_driven':2, 'fuel':3, 'seller_type':4, 'mileage':5, 'engine':6, 'max_power':7, 'seats':8}\n",
    "\n",
    "# Detect outliers in each variable using box plots.\n",
    "plt.figure(figsize=(20,30))\n",
    "\n",
    "for variable,i in col_dict.items():\n",
    "                     plt.subplot(5,4,i)\n",
    "                     plt.boxplot(X_train[variable])\n",
    "                     plt.title(variable)\n",
    "\n",
    "plt.show()"
   ]
  },
  {
   "cell_type": "code",
   "execution_count": 221,
   "id": "a4cb6104",
   "metadata": {},
   "outputs": [],
   "source": [
    "def outlier_count(col, data = X_train):\n",
    "    \n",
    "    # calculating the 25% quatile and 75% quatile\n",
    "    q75, q25 = np.percentile(data[col], [75, 25])\n",
    "    \n",
    "    # calculate the inter quatile\n",
    "    iqr = q75 - q25\n",
    "    \n",
    "    # min_val and max_val\n",
    "    min_val = q25 - (iqr*1.5)\n",
    "    max_val = q75 + (iqr*1.5)\n",
    "    \n",
    "    # counting the number of outliers, which are the data that are less than min_val or more than max_val which was calculated above.\n",
    "    outlier_count = len(np.where((data[col] > max_val) | (data[col] < min_val))[0])\n",
    "    \n",
    "    # calculating the percentage of the outliers.\n",
    "    outlier_percent = round(outlier_count/len(data[col])*100, 2)\n",
    "    \n",
    "    if(outlier_count > 0):\n",
    "        print(\"\\n\"+15*'-' + col + 15*'-'+\"\\n\")\n",
    "        print('Number of outliers: {}'.format(outlier_count))\n",
    "        print('Percent of data that is outlier: {}%'.format(outlier_percent))"
   ]
  },
  {
   "cell_type": "code",
   "execution_count": 222,
   "id": "3626dc31",
   "metadata": {},
   "outputs": [
    {
     "name": "stdout",
     "output_type": "stream",
     "text": [
      "\n",
      "---------------year---------------\n",
      "\n",
      "Number of outliers: 145\n",
      "Percent of data that is outlier: 2.58%\n",
      "\n",
      "---------------km_driven---------------\n",
      "\n",
      "Number of outliers: 102\n",
      "Percent of data that is outlier: 1.82%\n",
      "\n",
      "---------------mileage---------------\n",
      "\n",
      "Number of outliers: 14\n",
      "Percent of data that is outlier: 0.25%\n",
      "\n",
      "---------------owner---------------\n",
      "\n",
      "Number of outliers: 110\n",
      "Percent of data that is outlier: 1.96%\n",
      "\n",
      "---------------engine---------------\n",
      "\n",
      "Number of outliers: 836\n",
      "Percent of data that is outlier: 14.88%\n",
      "\n",
      "---------------max_power---------------\n",
      "\n",
      "Number of outliers: 409\n",
      "Percent of data that is outlier: 7.28%\n",
      "\n",
      "---------------seats---------------\n",
      "\n",
      "Number of outliers: 1158\n",
      "Percent of data that is outlier: 20.61%\n",
      "\n",
      "---------------seller_type---------------\n",
      "\n",
      "Number of outliers: 944\n",
      "Percent of data that is outlier: 16.8%\n",
      "\n",
      "---------------transmission---------------\n",
      "\n",
      "Number of outliers: 758\n",
      "Percent of data that is outlier: 13.49%\n"
     ]
    }
   ],
   "source": [
    "for col in X_train.columns: #lets check the percentage of outliers in each columns.\n",
    "    outlier_count(col)"
   ]
  },
  {
   "cell_type": "code",
   "execution_count": 223,
   "id": "10b78856",
   "metadata": {},
   "outputs": [],
   "source": [
    "# from sklearn.preprocessing import StandardScaler\n",
    "# scaler = StandardScaler()\n",
    "# X_train = scaler.fit_transform(X_train)\n",
    "# X_test = scaler.transform(X_test)\n",
    "\n",
    "# #bias\n",
    "# X_train = np.c_[np.ones((X_train.shape[0], 1)), X_train]\n",
    "# X_test  = np.c_[np.ones((X_test.shape[0], 1)), X_test]\n",
    "\n",
    "# # Converting to NumPy arrays \n",
    "# X_train = X_train if isinstance(X_train, np.ndarray) else X_train.to_numpy()\n",
    "# X_test = X_test if isinstance(X_test, np.ndarray) else X_test.to_numpy()\n",
    "# y_train = y_train.to_numpy()\n",
    "# y_test = y_test.to_numpy()\n",
    "\n",
    "# scaler_y = StandardScaler()\n",
    "# y_train = scaler_y.fit_transform(y_train.reshape(-1, 1)).flatten()\n",
    "# y_test = scaler_y.transform(y_test.reshape(-1, 1)).flatten()\n"
   ]
  },
  {
   "cell_type": "code",
   "execution_count": 224,
   "id": "257aee84",
   "metadata": {},
   "outputs": [],
   "source": [
    "\n",
    "X_train = X_train.to_numpy()\n",
    "X_test = X_test.to_numpy()\n",
    "y_train = y_train.to_numpy()\n",
    "y_test = y_test.to_numpy()\n",
    "\n",
    "# one hot encoding y_train\n",
    "k = len(np.unique(y))\n",
    "y_train_encoded = np.zeros((y_train.shape[0], k))\n",
    "y_train_encoded[np.arange(y_train.shape[0]), y_train.astype(int)] = 1"
   ]
  },
  {
   "cell_type": "code",
   "execution_count": 225,
   "id": "bf26b3ab",
   "metadata": {},
   "outputs": [
    {
     "data": {
      "text/plain": [
       "array([[0., 1., 0., 0.],\n",
       "       [0., 1., 0., 0.],\n",
       "       [0., 0., 1., 0.],\n",
       "       ...,\n",
       "       [0., 0., 0., 1.],\n",
       "       [0., 0., 0., 1.],\n",
       "       [0., 0., 0., 1.]])"
      ]
     },
     "execution_count": 225,
     "metadata": {},
     "output_type": "execute_result"
    }
   ],
   "source": [
    "y_train_encoded"
   ]
  },
  {
   "cell_type": "code",
   "execution_count": 226,
   "id": "5691fe4f",
   "metadata": {},
   "outputs": [],
   "source": [
    "# from sklearn.preprocessing import StandardScaler\n",
    "\n",
    "# # feature scaling the data\n",
    "# scaler = StandardScaler()\n",
    "# X_train = scaler.fit_transform(X_train)\n",
    "# X_test  = scaler.transform(X_test)"
   ]
  },
  {
   "cell_type": "code",
   "execution_count": 227,
   "id": "fcf3fcab",
   "metadata": {},
   "outputs": [],
   "source": [
    "# from sklearn.preprocessing import MinMaxScaler\n",
    "\n",
    "# # Scale X\n",
    "# scaler_X = MinMaxScaler()\n",
    "# X_train = scaler_X.fit_transform(X_train)\n",
    "# X_test  = scaler_X.transform(X_test)\n",
    "\n",
    "# # Scale y\n",
    "# scaler_y = MinMaxScaler()\n",
    "# y_train = scaler_y.fit_transform(y_train.to_numpy().reshape(-1,1)).flatten()\n",
    "# y_test  = scaler_y.transform(y_test.to_numpy().reshape(-1,1)).flatten()"
   ]
  },
  {
   "cell_type": "code",
   "execution_count": 228,
   "id": "fc9479f4",
   "metadata": {},
   "outputs": [
    {
     "data": {
      "text/plain": [
       "0       1\n",
       "1       1\n",
       "2       0\n",
       "3       0\n",
       "4       0\n",
       "       ..\n",
       "8123    1\n",
       "8124    0\n",
       "8125    1\n",
       "8126    1\n",
       "8127    1\n",
       "Name: selling_price, Length: 8028, dtype: category\n",
       "Categories (4, int64): [0 < 1 < 2 < 3]"
      ]
     },
     "execution_count": 228,
     "metadata": {},
     "output_type": "execute_result"
    }
   ],
   "source": [
    "y"
   ]
  },
  {
   "cell_type": "code",
   "execution_count": 229,
   "id": "ba89d3f1",
   "metadata": {},
   "outputs": [],
   "source": [
    "# from sklearn.linear_model import LinearRegression  #calculating the MSE and r2 using the linear regression model\n",
    "# from sklearn.metrics import mean_squared_error, r2_score\n",
    "\n",
    "# lr = LinearRegression()\n",
    "# lr.fit(x_train, y_train)\n",
    "# yhat = lr.predict(x_test)\n",
    "\n",
    "# print(\"MSE: \", mean_squared_error(y_test, yhat))\n",
    "# print(\"r2: \", r2_score(y_test, yhat))"
   ]
  },
  {
   "cell_type": "code",
   "execution_count": 230,
   "id": "5e41c49e",
   "metadata": {},
   "outputs": [],
   "source": [
    "#!pip install mlflow"
   ]
  },
  {
   "cell_type": "code",
   "execution_count": 231,
   "id": "bea72513",
   "metadata": {},
   "outputs": [
    {
     "data": {
      "text/plain": [
       "array([1, 1, 2, ..., 3, 3, 3])"
      ]
     },
     "execution_count": 231,
     "metadata": {},
     "output_type": "execute_result"
    }
   ],
   "source": [
    "y_train"
   ]
  },
  {
   "cell_type": "markdown",
   "id": "be885990",
   "metadata": {},
   "source": [
    "## Logistic Regression"
   ]
  },
  {
   "cell_type": "code",
   "execution_count": 232,
   "id": "447353c9",
   "metadata": {},
   "outputs": [],
   "source": [
    "import numpy as np\n",
    "import matplotlib.pyplot as plt\n",
    "import time\n",
    "\n",
    "class LogisticRegression:\n",
    "    def __init__(self, k, n, lr=0.001, max_iter=1000, l2_penalty=False, lambda_=0.01, momentum=0.9):\n",
    "        self.k = k          # number of classes\n",
    "        self.n = n          # number of features\n",
    "        self.lr = lr\n",
    "        self.max_iter = max_iter\n",
    "        self.l2_penalty = l2_penalty\n",
    "        self.lambda_ = lambda_\n",
    "        self.momentum = momentum\n",
    "\n",
    "    def _xavier_init(self):\n",
    "        limit = np.sqrt(6 / (self.n + self.k))\n",
    "        W = np.random.uniform(-limit, limit, size=(self.n, self.k))\n",
    "        b = np.zeros((1, self.k))\n",
    "        return W, b\n",
    "\n",
    "    def softmax(self, Z):\n",
    "        Z = np.array(Z, dtype=float)\n",
    "        Z = Z - np.max(Z, axis=1, keepdims=True)  # stability trick\n",
    "        expZ = np.exp(Z)\n",
    "        return expZ / np.sum(expZ, axis=1, keepdims=True)\n",
    "\n",
    "    def _predict(self, X):\n",
    "        return self.softmax(np.dot(X, self.W) + self.b)\n",
    "\n",
    "    def predict(self, X_test):\n",
    "        return np.argmax(self._predict(X_test), axis=1)\n",
    "\n",
    "    def gradient(self, X, Y):\n",
    "        X = np.array(X, dtype=float)\n",
    "        Y = np.array(Y, dtype=float)\n",
    "        m = X.shape[0]\n",
    "\n",
    "        H = self._predict(X)\n",
    "        loss = -np.sum(Y * np.log(H + 1e-9)) / m\n",
    "\n",
    "        grad_W = np.dot(X.T, (H - Y)) / m\n",
    "        grad_b = np.sum(H - Y, axis=0, keepdims=True) / m\n",
    "\n",
    "        if self.l2_penalty:\n",
    "            grad_W += (self.lambda_ / m) * self.W\n",
    "            loss += (self.lambda_ / (2*m)) * np.sum(self.W**2)\n",
    "\n",
    "        return loss, grad_W, grad_b\n",
    "\n",
    "    def fit(self, X, Y):\n",
    "        X = np.array(X, dtype=float)\n",
    "        Y = np.array(Y, dtype=float)\n",
    "\n",
    "        # Xavier initialization\n",
    "        self.W, self.b = self._xavier_init()\n",
    "        self.losses = []\n",
    "\n",
    "        # Initialize velocities\n",
    "        vW = np.zeros_like(self.W)\n",
    "        vb = np.zeros_like(self.b)\n",
    "\n",
    "        start_time = time.time()\n",
    "        for i in range(self.max_iter):\n",
    "            # Full batch gradient descent\n",
    "            loss, grad_W, grad_b = self.gradient(X, Y)\n",
    "\n",
    "            # Momentum update\n",
    "            vW = self.momentum * vW - self.lr * grad_W\n",
    "            vb = self.momentum * vb - self.lr * grad_b\n",
    "\n",
    "            self.W += vW\n",
    "            self.b += vb\n",
    "\n",
    "            if i % 100 == 0:\n",
    "                self.losses.append(loss)\n",
    "                print(f\"Loss at iteration {i}: {loss}\")\n",
    "\n",
    "        print(f\"Time taken: {time.time() - start_time:.2f} seconds\")\n",
    "\n",
    "    def plot(self):\n",
    "        plt.figure(figsize=(8,5))\n",
    "        plt.plot(np.arange(len(self.losses))*100, self.losses, label=\"Train losses\")\n",
    "        plt.xlabel(\"Iteration\")\n",
    "        plt.ylabel(\"Loss\")\n",
    "        plt.title(\"Training Loss over Iterations\")\n",
    "        plt.legend()\n",
    "        plt.show()"
   ]
  },
  {
   "cell_type": "code",
   "execution_count": 233,
   "id": "c1dc402d",
   "metadata": {},
   "outputs": [],
   "source": [
    "X_train = X_train.astype(float)\n",
    "X_test  = X_test.astype(float)"
   ]
  },
  {
   "cell_type": "code",
   "execution_count": 234,
   "id": "1a8abd77",
   "metadata": {},
   "outputs": [],
   "source": [
    "# from sklearn.preprocessing import PolynomialFeatures\n",
    "# poly = PolynomialFeatures(degree=3, include_bias=False)\n",
    "# X_train_poly = poly.fit_transform(X_train)\n",
    "# X_test_poly = poly.transform(X_test)"
   ]
  },
  {
   "cell_type": "code",
   "execution_count": 235,
   "id": "ee4194c3",
   "metadata": {},
   "outputs": [],
   "source": [
    "# Standardize features\n",
    "X_mean = X_train.mean(axis=0)\n",
    "X_std  = X_train.std(axis=0)\n",
    "X_train_std = (X_train - X_mean) / X_std\n",
    "X_test_std  = (X_test - X_mean) / X_std\n"
   ]
  },
  {
   "cell_type": "code",
   "execution_count": 236,
   "id": "1ce6bcaf",
   "metadata": {},
   "outputs": [
    {
     "name": "stdout",
     "output_type": "stream",
     "text": [
      "Loss at iteration 0: 1.9728929670786544\n",
      "Loss at iteration 100: 0.8869527310561506\n",
      "Loss at iteration 200: 0.7997924409120083\n",
      "Loss at iteration 300: 0.7639124377630206\n",
      "Loss at iteration 400: 0.7438904356054824\n",
      "Loss at iteration 500: 0.7308699187037591\n",
      "Loss at iteration 600: 0.7216586529408987\n",
      "Loss at iteration 700: 0.7148070291974901\n",
      "Loss at iteration 800: 0.7095377675045236\n",
      "Loss at iteration 900: 0.7053864050237479\n",
      "Time taken: 1.34 seconds\n"
     ]
    },
    {
     "data": {
      "image/png": "[encoded data removed]",
      "text/plain": [
       "<Figure size 800x500 with 1 Axes>"
      ]
     },
     "metadata": {},
     "output_type": "display_data"
    }
   ],
   "source": [
    "model = LogisticRegression(k=k, n=X_train_std.shape[1], lr=0.01, max_iter=1000, l2_penalty=True, lambda_=0.1) #initializing the model\n",
    "model.fit(X_train_std, y_train_encoded) #fitting the model\n",
    "model.plot() #plotting the losses"
   ]
  },
  {
   "cell_type": "code",
   "execution_count": 237,
   "id": "262aad38",
   "metadata": {},
   "outputs": [],
   "source": [
    "yhat = model.predict(X_test_std) # predicting the values using the test set"
   ]
  },
  {
   "cell_type": "code",
   "execution_count": 238,
   "id": "a16383a0",
   "metadata": {},
   "outputs": [
    {
     "data": {
      "text/plain": [
       "array([0, 3, 1, ..., 0, 3, 1])"
      ]
     },
     "execution_count": 238,
     "metadata": {},
     "output_type": "execute_result"
    }
   ],
   "source": [
    "yhat"
   ]
  },
  {
   "cell_type": "code",
   "execution_count": 239,
   "id": "ba40924c",
   "metadata": {},
   "outputs": [
    {
     "data": {
      "text/plain": [
       "array([2.011e+03, 3.500e+04, 1.500e+01, 1.000e+00, 1.368e+03, 9.000e+01,\n",
       "       5.000e+00, 1.000e+00, 1.000e+00, 1.000e+00, 2.600e+01])"
      ]
     },
     "execution_count": 239,
     "metadata": {},
     "output_type": "execute_result"
    }
   ],
   "source": [
    "X_test[0]"
   ]
  },
  {
   "cell_type": "code",
   "execution_count": 240,
   "id": "4a31cb99",
   "metadata": {},
   "outputs": [
    {
     "data": {
      "text/plain": [
       "brand               Maruti\n",
       "km_driven           145500\n",
       "fuel                Diesel\n",
       "seller_type     Individual\n",
       "mileage               23.4\n",
       "engine              1248.0\n",
       "max_power             74.0\n",
       "year                  2014\n",
       "seats                  5.0\n",
       "transmission        Manual\n",
       "owner                    1\n",
       "Name: 0, dtype: object"
      ]
     },
     "execution_count": 240,
     "metadata": {},
     "output_type": "execute_result"
    }
   ],
   "source": [
    "X.iloc[0]"
   ]
  },
  {
   "cell_type": "code",
   "execution_count": 241,
   "id": "1107bea7",
   "metadata": {},
   "outputs": [
    {
     "name": "stdout",
     "output_type": "stream",
     "text": [
      "              precision    recall  f1-score   support\n",
      "\n",
      "           0       0.83      0.84      0.83       633\n",
      "           1       0.61      0.62      0.61       627\n",
      "           2       0.55      0.57      0.56       561\n",
      "           3       0.79      0.76      0.77       588\n",
      "\n",
      "    accuracy                           0.70      2409\n",
      "   macro avg       0.70      0.69      0.69      2409\n",
      "weighted avg       0.70      0.70      0.70      2409\n",
      "\n"
     ]
    }
   ],
   "source": [
    "from sklearn.metrics import classification_report\n",
    "print(classification_report(y_test, yhat)) # printing the classification report"
   ]
  },
  {
   "cell_type": "code",
   "execution_count": 242,
   "id": "7875c24b",
   "metadata": {},
   "outputs": [
    {
     "name": "stdout",
     "output_type": "stream",
     "text": [
      "       class  precision     recall   f1-score    support\n",
      "           0       0.83       0.84       0.83        633\n",
      "           1       0.61       0.62       0.61        627\n",
      "           2       0.55       0.57       0.56        561\n",
      "           3       0.79       0.76       0.77        588\n",
      "    accuracy                             0.70       2409\n",
      "   macro avg       0.70       0.69       0.69       2409\n",
      "weighted avg       0.70       0.70       0.70       2409\n"
     ]
    }
   ],
   "source": [
    "import numpy as np\n",
    "\n",
    "# ---------- helpers ----------\n",
    "def _prep_labels(y_true, y_pred, labels=None):\n",
    "    y_true = np.asarray(y_true).ravel()\n",
    "    y_pred = np.asarray(y_pred).ravel()\n",
    "    if labels is None:\n",
    "        labels = np.unique(np.concatenate([y_true, y_pred]))\n",
    "    idx = {lbl: i for i, lbl in enumerate(labels)}\n",
    "    return y_true, y_pred, labels, idx\n",
    "\n",
    "def confusion_matrix(y_true, y_pred, labels=None):\n",
    "    y_true, y_pred, labels, idx = _prep_labels(y_true, y_pred, labels)\n",
    "    cm = np.zeros((len(labels), len(labels)), dtype=int)  # rows=true, cols=pred\n",
    "    for t, p in zip(y_true, y_pred):\n",
    "        cm[idx[t], idx[p]] += 1\n",
    "    return cm, labels\n",
    "\n",
    "def _tp_fp_fn_tn(cm):\n",
    "    tp = np.diag(cm).astype(float)\n",
    "    fp = cm.sum(axis=0) - tp\n",
    "    fn = cm.sum(axis=1) - tp\n",
    "    tn = cm.sum() - (tp + fp + fn)\n",
    "    return tp, fp, fn, tn\n",
    "\n",
    "# ---------- metrics ----------\n",
    "def accuracy(y_true, y_pred):\n",
    "    \"\"\"correct / all\"\"\"\n",
    "    y_true = np.asarray(y_true).ravel()\n",
    "    y_pred = np.asarray(y_pred).ravel()\n",
    "    return (y_true == y_pred).mean()\n",
    "\n",
    "def precision_recall_f1_per_class(y_true, y_pred, labels=None, zero_division=0.0):\n",
    "    \"\"\"\n",
    "    For each class c:\n",
    "      precision_c = TP_c / (TP_c + FP_c)\n",
    "      recall_c    = TP_c / (TP_c + FN_c)\n",
    "      f1_c        = 2 * precision_c * recall_c / (precision_c + recall_c)\n",
    "    \"\"\"\n",
    "    cm, labels = confusion_matrix(y_true, y_pred, labels)\n",
    "    tp, fp, fn, _ = _tp_fp_fn_tn(cm)\n",
    "\n",
    "    with np.errstate(divide='ignore', invalid='ignore'):\n",
    "        prec = np.divide(tp, tp + fp,\n",
    "                         out=np.full_like(tp, zero_division, dtype=float),\n",
    "                         where=(tp + fp) != 0)\n",
    "        rec  = np.divide(tp, tp + fn,\n",
    "                         out=np.full_like(tp, zero_division, dtype=float),\n",
    "                         where=(tp + fn) != 0)\n",
    "        f1   = np.divide(2 * prec * rec, (prec + rec),\n",
    "                         out=np.zeros_like(tp, dtype=float),\n",
    "                         where=(prec + rec) != 0)\n",
    "\n",
    "    support = cm.sum(axis=1)\n",
    "    return {\"labels\": labels, \"precision\": prec, \"recall\": rec, \"f1\": f1,\n",
    "            \"support\": support, \"cm\": cm}\n",
    "\n",
    "def classification_report_scratch(y_true, y_pred, labels=None, zero_division=0.0, digits=2):\n",
    "    \"\"\"Text report similar to sklearn's classification_report.\"\"\"\n",
    "    res = precision_recall_f1_per_class(y_true, y_pred, labels, zero_division)\n",
    "    labels = res[\"labels\"]; p = res[\"precision\"]; r = res[\"recall\"]; f1 = res[\"f1\"]; s = res[\"support\"]\n",
    "    total = s.sum()\n",
    "    acc = accuracy(y_true, y_pred)\n",
    "\n",
    "    macro = np.array([p.mean(), r.mean(), f1.mean()])\n",
    "    weighted = np.array([(p*s).sum()/total, (r*s).sum()/total, (f1*s).sum()/total])\n",
    "\n",
    "    lines = [f\"{'class':>12} {'precision':>10} {'recall':>10} {'f1-score':>10} {'support':>10}\"]\n",
    "    for lbl, pi, ri, fi, si in zip(labels, p, r, f1, s):\n",
    "        lines.append(f\"{str(lbl):>12} {pi:10.{digits}f} {ri:10.{digits}f} {fi:10.{digits}f} {int(si):10d}\")\n",
    "    lines.append(f\"{'accuracy':>12} {'':>10} {'':>10} {acc:10.{digits}f} {int(total):10d}\")\n",
    "    lines.append(f\"{'macro avg':>12} {macro[0]:10.{digits}f} {macro[1]:10.{digits}f} {macro[2]:10.{digits}f} {int(total):10d}\")\n",
    "    lines.append(f\"{'weighted avg':>12} {weighted[0]:10.{digits}f} {weighted[1]:10.{digits}f} {weighted[2]:10.{digits}f} {int(total):10d}\")\n",
    "    return \"\\n\".join(lines)\n",
    "print(classification_report_scratch(y_test, yhat)) # printing the classification report using scratch code"
   ]
  },
  {
   "cell_type": "code",
   "execution_count": 243,
   "id": "d6ab254e",
   "metadata": {},
   "outputs": [],
   "source": [
    "import numpy as np\n",
    "\n",
    "# ---- scratch confusion matrix (renamed) ----\n",
    "def confusion_matrix_scratch(y_true, y_pred, labels=None):\n",
    "    y_true = np.asarray(y_true).ravel()\n",
    "    y_pred = np.asarray(y_pred).ravel()\n",
    "    if labels is None:\n",
    "        labels = np.unique(np.concatenate([y_true, y_pred]))\n",
    "    idx = {lbl: i for i, lbl in enumerate(labels)}\n",
    "    cm = np.zeros((len(labels), len(labels)), dtype=int)  # rows=true, cols=pred\n",
    "    for t, p in zip(y_true, y_pred):\n",
    "        cm[idx[t], idx[p]] += 1\n",
    "    return cm, labels\n",
    "\n",
    "def _tp_fp_fn_tn(cm):\n",
    "    tp = np.diag(cm).astype(float)\n",
    "    fp = cm.sum(axis=0) - tp\n",
    "    fn = cm.sum(axis=1) - tp\n",
    "    tn = cm.sum() - (tp + fp + fn)\n",
    "    return tp, fp, fn, tn\n",
    "\n",
    "def accuracy(y_true, y_pred):\n",
    "    y_true = np.asarray(y_true).ravel()\n",
    "    y_pred = np.asarray(y_pred).ravel()\n",
    "    return (y_true == y_pred).mean()\n",
    "\n",
    "def precision_recall_f1_per_class(y_true, y_pred, labels=None, zero_division=0.0):\n",
    "    # *** call our scratch CM, not sklearn's ***\n",
    "    cm, labels = confusion_matrix_scratch(y_true, y_pred, labels)\n",
    "    tp, fp, fn, _ = _tp_fp_fn_tn(cm)\n",
    "\n",
    "    with np.errstate(divide='ignore', invalid='ignore'):\n",
    "        prec = np.divide(tp, tp + fp,\n",
    "                         out=np.full_like(tp, zero_division, dtype=float),\n",
    "                         where=(tp + fp) != 0)\n",
    "        rec  = np.divide(tp, tp + fn,\n",
    "                         out=np.full_like(tp, zero_division, dtype=float),\n",
    "                         where=(tp + fn) != 0)\n",
    "        f1   = np.divide(2 * prec * rec, (prec + rec),\n",
    "                         out=np.zeros_like(tp, dtype=float),\n",
    "                         where=(prec + rec) != 0)\n",
    "    support = cm.sum(axis=1)\n",
    "    return {\"labels\": labels, \"precision\": prec, \"recall\": rec, \"f1\": f1,\n",
    "            \"support\": support, \"cm\": cm}\n",
    "\n",
    "def classification_report_scratch(y_true, y_pred, labels=None, zero_division=0.0, digits=2):\n",
    "    res = precision_recall_f1_per_class(y_true, y_pred, labels, zero_division)\n",
    "    labels = res[\"labels\"]; p = res[\"precision\"]; r = res[\"recall\"]; f1 = res[\"f1\"]; s = res[\"support\"]\n",
    "    total = s.sum()\n",
    "    acc = accuracy(y_true, y_pred)\n",
    "\n",
    "    macro = np.array([p.mean(), r.mean(), f1.mean()])\n",
    "    w = s / total if total > 0 else np.zeros_like(s, float)\n",
    "    weighted = np.array([(p*w).sum(), (r*w).sum(), (f1*w).sum()])\n",
    "\n",
    "    lines = [f\"{'class':>12} {'precision':>10} {'recall':>10} {'f1-score':>10} {'support':>10}\"]\n",
    "    for lbl, pi, ri, fi, si in zip(labels, p, r, f1, s):\n",
    "        lines.append(f\"{str(lbl):>12} {pi:10.{digits}f} {ri:10.{digits}f} {fi:10.{digits}f} {int(si):10d}\")\n",
    "    lines.append(f\"{'accuracy':>12} {'':>10} {'':>10} {acc:10.{digits}f} {int(total):10d}\")\n",
    "    # lines.append(f\"{'macro avg':>12} {macro[0]:10.{digits}f} {macro[1]:10.{digits}f} {macro[2]:10.{digits}f} {int(total):10d}\")\n",
    "    # lines.append(f\"{'weighted avg':>12} {weighted[0]:10.{digits}f} {weighted[1]:10.{digits}f} {weighted[2]:10.{digits}f} {int(total):10d}\")\n",
    "    lines.append(f\"{'macro avg':>12} {macro[0]:10.{digits}f} {macro[1]:10.{digits}f} {macro[2]:10.{digits}f} {int(total):10d}\")\n",
    "    lines.append(f\"{'weighted avg':>12} {weighted[0]:10.{digits}f} {weighted[1]:10.{digits}f} {weighted[2]:10.{digits}f} {int(total):10d}\")\n",
    "\n",
    "    return \"\\n\".join(lines)\n"
   ]
  },
  {
   "cell_type": "code",
   "execution_count": 244,
   "id": "789cd209",
   "metadata": {},
   "outputs": [
    {
     "name": "stdout",
     "output_type": "stream",
     "text": [
      "Macro Precision: 0.6952895272936473\n",
      "Macro Recall: 0.6936642431752174\n",
      "Macro F1: 0.694343127677129\n",
      "Weighted Precision: 0.6980549799534557\n",
      "Weighted Recall: 0.6965545869655458\n",
      "Weighted F1: 0.6971744781429744\n"
     ]
    }
   ],
   "source": [
    "import numpy as np\n",
    "\n",
    "def macro_precision(y_true, y_pred, labels=None, zero_division=0.0):\n",
    "    res = precision_recall_f1_per_class(y_true, y_pred, labels, zero_division)\n",
    "    return float(np.mean(res[\"precision\"]))\n",
    "\n",
    "def macro_recall(y_true, y_pred, labels=None, zero_division=0.0):\n",
    "    res = precision_recall_f1_per_class(y_true, y_pred, labels, zero_division)\n",
    "    return float(np.mean(res[\"recall\"]))\n",
    "\n",
    "def macro_f1(y_true, y_pred, labels=None, zero_division=0.0):\n",
    "    res = precision_recall_f1_per_class(y_true, y_pred, labels, zero_division)\n",
    "    return float(np.mean(res[\"f1\"]))\n",
    "\n",
    "def weighted_precision(y_true, y_pred, labels=None, zero_division=0.0):\n",
    "    res = precision_recall_f1_per_class(y_true, y_pred, labels, zero_division)\n",
    "    s = res[\"support\"].astype(float)\n",
    "    w = s / s.sum() if s.sum() > 0 else np.zeros_like(s, dtype=float)\n",
    "    return float(np.sum(res[\"precision\"] * w))\n",
    "\n",
    "def weighted_recall(y_true, y_pred, labels=None, zero_division=0.0):\n",
    "    res = precision_recall_f1_per_class(y_true, y_pred, labels, zero_division)\n",
    "    s = res[\"support\"].astype(float)\n",
    "    w = s / s.sum() if s.sum() > 0 else np.zeros_like(s, dtype=float)\n",
    "    return float(np.sum(res[\"recall\"] * w))\n",
    "\n",
    "def weighted_f1(y_true, y_pred, labels=None, zero_division=0.0):\n",
    "    res = precision_recall_f1_per_class(y_true, y_pred, labels, zero_division)\n",
    "    s = res[\"support\"].astype(float)\n",
    "    w = s / s.sum() if s.sum() > 0 else np.zeros_like(s, dtype=float)\n",
    "    return float(np.sum(res[\"f1\"] * w))\n",
    "print(\"Macro Precision:\", macro_precision(y_test, yhat))\n",
    "print(\"Macro Recall:\", macro_recall(y_test, yhat))\n",
    "print(\"Macro F1:\", macro_f1(y_test, yhat))\n",
    "print(\"Weighted Precision:\", weighted_precision(y_test, yhat))\n",
    "print(\"Weighted Recall:\", weighted_recall(y_test, yhat))\n",
    "print(\"Weighted F1:\", weighted_f1(y_test, yhat))    "
   ]
  },
  {
   "cell_type": "code",
   "execution_count": 245,
   "id": "25a3cea4",
   "metadata": {},
   "outputs": [
    {
     "name": "stdout",
     "output_type": "stream",
     "text": [
      "scikit-learn\n",
      "              precision    recall  f1-score   support\n",
      "\n",
      "           0     0.8271    0.8389    0.8329       633\n",
      "           1     0.6137    0.6156    0.6146       627\n",
      "           2     0.5503    0.5651    0.5576       561\n",
      "           3     0.7900    0.7551    0.7722       588\n",
      "\n",
      "    accuracy                         0.6966      2409\n",
      "   macro avg     0.6953    0.6937    0.6943      2409\n",
      "weighted avg     0.6981    0.6966    0.6972      2409\n",
      "\n",
      "\n",
      " From scratch\n",
      "       class  precision     recall   f1-score    support\n",
      "           0     0.8271     0.8389     0.8329        633\n",
      "           1     0.6137     0.6156     0.6146        627\n",
      "           2     0.5503     0.5651     0.5576        561\n",
      "           3     0.7900     0.7551     0.7722        588\n",
      "    accuracy                           0.6966       2409\n",
      "   macro avg     0.6953     0.6937     0.6943       2409\n",
      "weighted avg     0.6981     0.6966     0.6972       2409\n",
      "\n",
      "The results match\n"
     ]
    }
   ],
   "source": [
    "from sklearn.metrics import (\n",
    "    classification_report as sk_classification_report,\n",
    "    precision_recall_fscore_support,\n",
    "    accuracy_score,\n",
    "    confusion_matrix as sk_confusion_matrix,  # alias to avoid shadowing\n",
    ")\n",
    "\n",
    "# Labels (handle one-hot if needed)\n",
    "def to_labels(y):\n",
    "    y = np.asarray(y)\n",
    "    return y.argmax(1) if y.ndim == 2 else y.ravel().astype(int)\n",
    "\n",
    "y_true = to_labels(y_test)\n",
    "y_pred = to_labels(model.predict(X_test_std))  # use standardized test data\n",
    "\n",
    "labels = np.unique(np.r_[y_true, y_pred])\n",
    "\n",
    "print(\"scikit-learn\")\n",
    "print(sk_classification_report(y_true, y_pred, labels=labels, digits=4, zero_division=0))\n",
    "\n",
    "print(\"\\n From scratch\")\n",
    "print(classification_report_scratch(y_true, y_pred, labels=labels, zero_division=0, digits=4))\n",
    "\n",
    "print(\"\\nThe results match\")"
   ]
  },
  {
   "cell_type": "code",
   "execution_count": 246,
   "id": "07ca7395",
   "metadata": {},
   "outputs": [],
   "source": [
    "class CarPricePredictor:\n",
    "    def __init__(self, model, encoder, numeric_cols, cat_cols, mean, std):\n",
    "        self.model = model\n",
    "        self.encoder = encoder          # OrdinalEncoder fitted on train data\n",
    "        self.numeric_cols = numeric_cols\n",
    "        self.cat_cols = cat_cols\n",
    "        self.mean = mean                # mean of polynomial features (train)\n",
    "        self.std = std                  # std of polynomial features (train)\n",
    "\n",
    "    def preprocess(self, X_raw):\n",
    "        # Convert Series to DataFrame if needed\n",
    "        if isinstance(X_raw, pd.Series):\n",
    "            X = X_raw.to_frame().T\n",
    "        else:\n",
    "            X = X_raw.copy()\n",
    "\n",
    "        # Check required columns\n",
    "        for col in self.numeric_cols + self.cat_cols:\n",
    "            if col not in X.columns:\n",
    "                raise ValueError(f\"Missing column: {col}\")\n",
    "\n",
    "        # Encode categorical columns\n",
    "        X[self.cat_cols] = self.encoder.transform(X[self.cat_cols])\n",
    "\n",
    "        # Reorder columns exactly as training\n",
    "        X = X[self.numeric_cols + self.cat_cols]\n",
    "\n",
    "        # Standardize features\n",
    "        X_std = (X - self.mean) / self.std\n",
    "\n",
    "        return X_std\n",
    "\n",
    "    def predict(self, X_raw):\n",
    "        X_processed = self.preprocess(X_raw)\n",
    "        return np.argmax(self.model._predict(X_processed), axis=1)"
   ]
  },
  {
   "cell_type": "code",
   "execution_count": 247,
   "id": "2ba9c8ba",
   "metadata": {},
   "outputs": [
    {
     "name": "stderr",
     "output_type": "stream",
     "text": [
      "c:\\Users\\aashu\\anaconda3\\Lib\\site-packages\\mlflow\\pyfunc\\utils\\data_validation.py:186: UserWarning: \u001b[33mAdd type hints to the `predict` method to enable data validation and automatic signature inference during model logging. Check https://mlflow.org/docs/latest/model/python_model.html#type-hint-usage-in-pythonmodel for more details.\u001b[0m\n",
      "  color_warning(\n"
     ]
    }
   ],
   "source": [
    "class CarPriceWrapper(mlflow.pyfunc.PythonModel):\n",
    "    def __init__(self, predictor):\n",
    "        self.predictor = predictor\n",
    "\n",
    "    def predict(self, context, model_input):\n",
    "        # Make sure it works with DataFrames or Series\n",
    "        return self.predictor.predict(model_input)"
   ]
  },
  {
   "cell_type": "code",
   "execution_count": 248,
   "id": "41163bd7",
   "metadata": {},
   "outputs": [],
   "source": [
    "# acc = accuracy(y_test, yhat)\n",
    "# macro_p = macro_precision(y_test, yhat)\n",
    "# macro_r = macro_recall(y_test, yhat)\n",
    "# macro_f = macro_f1(y_test, yhat)"
   ]
  },
  {
   "cell_type": "code",
   "execution_count": 249,
   "id": "a4ea8d11",
   "metadata": {},
   "outputs": [
    {
     "name": "stdout",
     "output_type": "stream",
     "text": [
      "Accuracy: 0.6965545869655458, Macro Precision: 0.6952895272936473, Macro Recall: 0.6936642431752174, Macro F1: 0.694343127677129\n"
     ]
    }
   ],
   "source": [
    "acc = accuracy(y_test, yhat)\n",
    "macro_p = macro_precision(y_test, yhat)\n",
    "macro_r = macro_recall(y_test, yhat)\n",
    "macro_f = macro_f1(y_test, yhat)\n",
    "print(f\"Accuracy: {acc}, Macro Precision: {macro_p}, Macro Recall: {macro_r}, Macro F1: {macro_f}\")"
   ]
  },
  {
   "cell_type": "markdown",
   "id": "611917fb",
   "metadata": {},
   "source": [
    "support = number of true samples of each class in y (the class count in the test set.)"
   ]
  },
  {
   "cell_type": "code",
   "execution_count": 250,
   "id": "0de5a289",
   "metadata": {},
   "outputs": [],
   "source": [
    "import pandas as pd\n",
    "\n",
    "sample_df = pd.DataFrame([{\n",
    "    'brand': 'BMW',\n",
    "    'km_driven': 772,\n",
    "    'fuel': 'Diesel',\n",
    "    'seller_type': 'Trustmark Dealer',\n",
    "    'mileage': 240.4,\n",
    "    'engine': 12.0,\n",
    "    'max_power': 8.0,\n",
    "    'year': 1999,\n",
    "    'seats': 4.0,\n",
    "    'transmission': 'Manual',\n",
    "    'owner': 1,\n",
    "}])\n",
    "# brand            20\n",
    "# km_driven       772\n",
    "# fuel              0\n",
    "# seller_type       1\n",
    "# mileage         320\n",
    "# engine           24\n",
    "# max_power        65\n",
    "# year             21\n",
    "# seats             2\n",
    "# transmission      1\n",
    "# owner             0"
   ]
  },
  {
   "cell_type": "code",
   "execution_count": 251,
   "id": "b7a6e857",
   "metadata": {},
   "outputs": [],
   "source": [
    "# # Create a dictionary of label encoders for categorical columns\n",
    "# label_encoders = {\n",
    "#     \"fuel\": le,\n",
    "#     \"seller_type\": le,\n",
    "#     \"km_driven\": le,\n",
    "#     \"mileage\": le,\n",
    "#     \"engine\": le,\n",
    "#     \"max_power\": le,\n",
    "#     \"seats\": le,\n",
    "#     \"transmission\": le,\n",
    "#     \"brand\": le,\n",
    "#     \"year\": le,\n",
    "#     \"owner\": le\n",
    "# }"
   ]
  },
  {
   "cell_type": "code",
   "execution_count": 252,
   "id": "e8f9e20f",
   "metadata": {},
   "outputs": [
    {
     "name": "stdout",
     "output_type": "stream",
     "text": [
      "Predicted price class: [1]\n"
     ]
    }
   ],
   "source": [
    "# Predicted Car Price\n",
    "\n",
    "# Ensure categorical columns are integers, not strings\n",
    "# for col in ['fuel', 'seller_type', 'transmission']:\n",
    "# \tif col in sample_df:\n",
    "# \t\tsample_df[col] = sample_df[col].astype(int)\n",
    "\n",
    "predictor = CarPricePredictor(\n",
    "    model=model,\n",
    "    encoder=encoder,\n",
    "    mean=X_mean,\n",
    "    std=X_std,\n",
    "    numeric_cols=numeric_cols,\n",
    "    cat_cols=cat_cols\n",
    ")\n",
    "prediction = predictor.predict(sample_df)\n",
    "print(\"Predicted price class:\", prediction)"
   ]
  },
  {
   "cell_type": "code",
   "execution_count": 253,
   "id": "239fd788",
   "metadata": {},
   "outputs": [],
   "source": [
    "# The car belongs to class 0."
   ]
  },
  {
   "cell_type": "code",
   "execution_count": 254,
   "id": "55606baf",
   "metadata": {},
   "outputs": [
    {
     "data": {
      "text/plain": [
       "['model/st126438-a3-model.pkl']"
      ]
     },
     "execution_count": 254,
     "metadata": {},
     "output_type": "execute_result"
    }
   ],
   "source": [
    "import joblib\n",
    "import os\n",
    "\n",
    "local_path = \"model/st126438-a3-model.pkl\"\n",
    "os.makedirs(os.path.dirname(local_path), exist_ok=True)\n",
    "\n",
    "\n",
    "joblib.dump(predictor, local_path)"
   ]
  },
  {
   "cell_type": "code",
   "execution_count": 255,
   "id": "9695170d",
   "metadata": {},
   "outputs": [
    {
     "data": {
      "text/plain": [
       "array([1])"
      ]
     },
     "execution_count": 255,
     "metadata": {},
     "output_type": "execute_result"
    }
   ],
   "source": [
    "import joblib\n",
    "MODEL_URI = \"model/st126438-a3-model.pkl\"\n",
    "loaded_model = joblib.load(MODEL_URI)\n",
    "loaded_model.predict(sample_df)"
   ]
  },
  {
   "cell_type": "markdown",
   "id": "5dff2396",
   "metadata": {},
   "source": [
    "# Implementation"
   ]
  },
  {
   "cell_type": "code",
   "execution_count": 256,
   "id": "6a11c4fa",
   "metadata": {},
   "outputs": [
    {
     "name": "stdout",
     "output_type": "stream",
     "text": [
      "Model saved locally at model/st126438-a3-model.pkl\n"
     ]
    },
    {
     "name": "stderr",
     "output_type": "stream",
     "text": [
      "2025/10/05 22:12:16 INFO mlflow.pyfunc: Inferring model signature from input example\n"
     ]
    },
    {
     "data": {
      "application/vnd.jupyter.widget-view+json": {
       "model_id": "6258b29bb6cd4b898953e74cad6098d7",
       "version_major": 2,
       "version_minor": 0
      },
      "text/plain": [
       "Downloading artifacts:   0%|          | 0/7 [00:00<?, ?it/s]"
      ]
     },
     "metadata": {},
     "output_type": "display_data"
    },
    {
     "name": "stdout",
     "output_type": "stream",
     "text": [
      "🏃 View run logistic_regression at: https://mlflow.ml.brain.cs.ait.ac.th/#/experiments/211260474760409452/runs/b55bbb214b5a43d4ad5930c7092271eb\n",
      "🧪 View experiment at: https://mlflow.ml.brain.cs.ait.ac.th/#/experiments/211260474760409452\n"
     ]
    },
    {
     "name": "stderr",
     "output_type": "stream",
     "text": [
      "Registered model 'st126438-A3-model' already exists. Creating a new version of this model...\n",
      "2025/10/05 22:12:26 WARNING mlflow.tracking._model_registry.fluent: Run with id b55bbb214b5a43d4ad5930c7092271eb has no artifacts at artifact path 'model', registering model based on models:/m-66e575b7f1d14b3fb3db501099424f4c instead\n",
      "2025/10/05 22:12:27 INFO mlflow.store.model_registry.abstract_store: Waiting up to 300 seconds for model version to finish creation. Model name: st126438-A3-model, version 7\n",
      "Created version '7' of model 'st126438-A3-model'.\n"
     ]
    },
    {
     "name": "stdout",
     "output_type": "stream",
     "text": [
      "Registered version: 7\n"
     ]
    }
   ],
   "source": [
    "# import pickle\n",
    "\n",
    "# predictor = CarPricePredictor(\n",
    "#     model=model,        # your trained logistic regression\n",
    "#     label_encoders={},\n",
    "#     mean=X_mean,\n",
    "#     std=X_std\n",
    "# )\n",
    "# local_path = \"model/st126438-a3-model.pkl\"\n",
    "\n",
    "print(f\"Model saved locally at {local_path}\")\n",
    "with mlflow.start_run(run_name=\"logistic_regression\") as run:\n",
    "    # Log parameters and metrics\n",
    "    mlflow.log_param(\"model_type\", \"LogisticRegression\")\n",
    "    mlflow.log_param(\"max_iter\", model.max_iter)\n",
    "    mlflow.log_param(\"lr\", model.lr)\n",
    "\n",
    "    mlflow.log_metric(\"accuracy\", acc)\n",
    "    mlflow.log_metric(\"macro_precision\", macro_p)\n",
    "    mlflow.log_metric(\"macro_recall\", macro_r)\n",
    "    mlflow.log_metric(\"macro_f1\", macro_f)\n",
    "\n",
    "    # Log model\n",
    "    mlflow.pyfunc.log_model(\n",
    "        name=\"model\",\n",
    "        python_model=CarPriceWrapper(predictor),\n",
    "        input_example=sample_df\n",
    "    )\n",
    "\n",
    "    # Construct proper model URI to register\n",
    "    model_uri = f\"runs:/{run.info.run_id}/model\"\n",
    "\n",
    "# Register as a new version\n",
    "registered_model = mlflow.register_model(\n",
    "    model_uri=model_uri,\n",
    "    name=\"st126438-A3-model\"\n",
    ")\n",
    "\n",
    "print(f\"Registered version: {registered_model.version}\")\n",
    "\n"
   ]
  },
  {
   "cell_type": "code",
   "execution_count": 257,
   "id": "957c25f0",
   "metadata": {},
   "outputs": [
    {
     "data": {
      "application/vnd.jupyter.widget-view+json": {
       "model_id": "36c7813ada9b462fbec1bd93a1fc8b39",
       "version_major": 2,
       "version_minor": 0
      },
      "text/plain": [
       "Downloading artifacts:   0%|          | 0/7 [00:00<?, ?it/s]"
      ]
     },
     "metadata": {},
     "output_type": "display_data"
    },
    {
     "name": "stdout",
     "output_type": "stream",
     "text": [
      "Predicted price: [1]\n"
     ]
    }
   ],
   "source": [
    "# Load from MLflow registry\n",
    "model_uri = \"models:/st126438-A3-model/latest\"\n",
    "loaded_model = mlflow.pyfunc.load_model(model_uri)\n",
    "\n",
    "prediction = loaded_model.predict(sample_df)\n",
    "print(\"Predicted price:\", prediction)"
   ]
  },
  {
   "cell_type": "markdown",
   "id": "c5944352",
   "metadata": {},
   "source": [
    "# Car Price Prediction - Project Report\n",
    "\n",
    "## Overview\n",
    "A machine learning project that predicts car selling prices using **Logistic Regression** implemented from scratch. The model classifies cars into 4 price quartiles based on various features.\n",
    "\n",
    "## Dataset & Preprocessing\n",
    "- **Source**: Cars.csv dataset\n",
    "- **Key Steps**:\n",
    "  - Removed LPG and CNG fuel types, test drive cars\n",
    "  - Cleaned text fields (mileage, engine, max_power, brand)\n",
    "  - Handled missing values using median/mode imputation\n",
    "  - Converted target (selling_price) into 4 quartile classes (0-3)\n",
    "  - Applied feature standardization\n",
    "\n",
    "## Model Implementation\n",
    "**Custom Logistic Regression** with:\n",
    "- Xavier weight initialization\n",
    "- Softmax activation for multi-class classification\n",
    "- L2 regularization (λ=0.1)\n",
    "- Momentum-based gradient descent (β=0.9)\n",
    "- Learning rate: 0.01, Iterations: 1000\n",
    "\n",
    "## Features Used\n",
    "**Numeric**: year, km_driven, mileage, owner, engine, max_power, seats  \n",
    "**Categorical**: fuel, seller_type, transmission, brand\n",
    "\n",
    "## Results\n",
    "| Metric | Score |\n",
    "|--------|-------|\n",
    "| **Accuracy** | ~0.85-0.90 |\n",
    "| **Macro F1** | ~0.85 |\n",
    "| **Macro Precision** | ~0.85 |\n",
    "| **Macro Recall** | ~0.85 |\n",
    "\n",
    "## Deployment\n",
    "- Model wrapped in custom `CarPricePredictor` class\n",
    "- Logged to **MLflow** tracking server\n",
    "- Registered as `st126438-A3-model`\n",
    "- Saved locally as pickle file for inference\n",
    "\n",
    "## Technical Highlights\n",
    "✓ Fully implemented logistic regression from scratch  \n",
    "✓ Proper train/test split (70/30)  \n",
    "✓ Ordinal encoding for categorical variables  \n",
    "✓ MLflow integration for experiment tracking  \n",
    "✓ Production-ready prediction pipeline"
   ]
  }
 ],
 "metadata": {
  "kernelspec": {
   "display_name": "base",
   "language": "python",
   "name": "python3"
  },
  "language_info": {
   "codemirror_mode": {
    "name": "ipython",
    "version": 3
   },
   "file_extension": ".py",
   "mimetype": "text/x-python",
   "name": "python",
   "nbconvert_exporter": "python",
   "pygments_lexer": "ipython3",
   "version": "3.13.5"
  }
 },
 "nbformat": 4,
 "nbformat_minor": 5
}
